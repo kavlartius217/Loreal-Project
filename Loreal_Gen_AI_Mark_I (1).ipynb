{
  "nbformat": 4,
  "nbformat_minor": 0,
  "metadata": {
    "colab": {
      "provenance": []
    },
    "kernelspec": {
      "name": "python3",
      "display_name": "Python 3"
    },
    "language_info": {
      "name": "python"
    }
  },
  "cells": [
    {
      "cell_type": "markdown",
      "source": [
        "\n",
        "Here’s a list of skin conditions affecting the face that can often be identified through an image, with brief explanations:\n",
        "\n",
        "1. Acne\n",
        "Description: Red pimples, blackheads, whiteheads, or deep cysts caused by clogged pores and oil buildup.\n",
        "Location: Cheeks, forehead, and jawline.\n",
        "2. Dark Spots (Hyperpigmentation)\n",
        "Description: Brown or dark patches left by acne, shaving cuts, or sun exposure.\n",
        "Location: Cheeks, forehead, and around the mouth.\n",
        "3. Razor Bumps (Pseudofolliculitis Barbae)\n",
        "Description: Small, inflamed bumps caused by ingrown hairs after shaving.\n",
        "Location: Beard area, neck, and jawline.\n",
        "4. Seborrheic Dermatitis\n",
        "Description: Redness and greasy, yellowish scales on oily areas.\n",
        "Location: Eyebrows, sides of the nose, and hairline.\n",
        "5. Rosacea\n",
        "Description: Persistent redness, visible blood vessels, and acne-like bumps, sometimes causing thickened skin on the nose.\n",
        "Location: Cheeks, nose, and chin.\n",
        "6. Melasma\n",
        "Description: Symmetrical brown or gray-brown patches caused by sun exposure or hormonal changes.\n",
        "Location: Cheeks, upper lip, forehead, and nose.\n",
        "7. Keloids\n",
        "Description: Raised, shiny scars from excess collagen production after skin injury.\n",
        "Location: Jawline, ears, or areas affected by shaving.\n",
        "8. Psoriasis\n",
        "Description: Thick, silvery scales that can be itchy or inflamed.\n",
        "Location: Hairline, eyebrows, and nose.\n",
        "9. Folliculitis\n",
        "Description: Red or white bumps caused by infected or inflamed hair follicles.\n",
        "Location: Beard area and neck.\n",
        "10. Sun Damage and Actinic Keratosis\n",
        "Description: Rough, scaly patches or discoloration from prolonged sun exposure.\n",
        "Location: Forehead, nose, and cheeks."
      ],
      "metadata": {
        "id": "MKeU9ICRUYEr"
      }
    },
    {
      "cell_type": "code",
      "source": [
        "from google.colab import userdata\n",
        "OPEN_AI_KEY=userdata.get('OPEN_AI_KEY')\n",
        "\n",
        "import os\n",
        "os.environ['OPENAI_API_KEY']=OPEN_AI_KEY"
      ],
      "metadata": {
        "id": "2eC7W1ibaxto"
      },
      "execution_count": null,
      "outputs": []
    },
    {
      "cell_type": "code",
      "execution_count": null,
      "metadata": {
        "collapsed": true,
        "id": "93IDmFqpRTXC",
        "colab": {
          "base_uri": "https://localhost:8080/"
        },
        "outputId": "dc635a46-daa3-4493-a56c-9941945b6c19"
      },
      "outputs": [
        {
          "output_type": "stream",
          "name": "stdout",
          "text": [
            "Collecting crewai\n",
            "  Downloading crewai-0.98.0-py3-none-any.whl.metadata (27 kB)\n",
            "Collecting appdirs>=1.4.4 (from crewai)\n",
            "  Downloading appdirs-1.4.4-py2.py3-none-any.whl.metadata (9.0 kB)\n",
            "Collecting auth0-python>=4.7.1 (from crewai)\n",
            "  Downloading auth0_python-4.7.2-py3-none-any.whl.metadata (8.9 kB)\n",
            "Requirement already satisfied: blinker>=1.9.0 in /usr/local/lib/python3.11/dist-packages (from crewai) (1.9.0)\n",
            "Collecting chromadb>=0.5.23 (from crewai)\n",
            "  Downloading chromadb-0.6.3-py3-none-any.whl.metadata (6.8 kB)\n",
            "Requirement already satisfied: click>=8.1.7 in /usr/local/lib/python3.11/dist-packages (from crewai) (8.1.8)\n",
            "Collecting instructor>=1.3.3 (from crewai)\n",
            "  Downloading instructor-1.7.2-py3-none-any.whl.metadata (18 kB)\n",
            "Collecting json-repair>=0.25.2 (from crewai)\n",
            "  Downloading json_repair-0.35.0-py3-none-any.whl.metadata (11 kB)\n",
            "Collecting jsonref>=1.1.0 (from crewai)\n",
            "  Downloading jsonref-1.1.0-py3-none-any.whl.metadata (2.7 kB)\n",
            "Collecting litellm==1.57.4 (from crewai)\n",
            "  Downloading litellm-1.57.4-py3-none-any.whl.metadata (36 kB)\n",
            "Requirement already satisfied: openai>=1.13.3 in /usr/local/lib/python3.11/dist-packages (from crewai) (1.59.6)\n",
            "Requirement already satisfied: openpyxl>=3.1.5 in /usr/local/lib/python3.11/dist-packages (from crewai) (3.1.5)\n",
            "Requirement already satisfied: opentelemetry-api>=1.22.0 in /usr/local/lib/python3.11/dist-packages (from crewai) (1.29.0)\n",
            "Collecting opentelemetry-exporter-otlp-proto-http>=1.22.0 (from crewai)\n",
            "  Downloading opentelemetry_exporter_otlp_proto_http-1.29.0-py3-none-any.whl.metadata (2.2 kB)\n",
            "Requirement already satisfied: opentelemetry-sdk>=1.22.0 in /usr/local/lib/python3.11/dist-packages (from crewai) (1.29.0)\n",
            "Collecting pdfplumber>=0.11.4 (from crewai)\n",
            "  Downloading pdfplumber-0.11.5-py3-none-any.whl.metadata (42 kB)\n",
            "\u001b[2K     \u001b[90m━━━━━━━━━━━━━━━━━━━━━━━━━━━━━━━━━━━━━━━━\u001b[0m \u001b[32m42.5/42.5 kB\u001b[0m \u001b[31m2.6 MB/s\u001b[0m eta \u001b[36m0:00:00\u001b[0m\n",
            "\u001b[?25hRequirement already satisfied: pydantic>=2.4.2 in /usr/local/lib/python3.11/dist-packages (from crewai) (2.10.5)\n",
            "Collecting python-dotenv>=1.0.0 (from crewai)\n",
            "  Downloading python_dotenv-1.0.1-py3-none-any.whl.metadata (23 kB)\n",
            "Collecting pyvis>=0.3.2 (from crewai)\n",
            "  Downloading pyvis-0.3.2-py3-none-any.whl.metadata (1.7 kB)\n",
            "Requirement already satisfied: regex>=2024.9.11 in /usr/local/lib/python3.11/dist-packages (from crewai) (2024.11.6)\n",
            "Collecting tomli-w>=1.1.0 (from crewai)\n",
            "  Downloading tomli_w-1.2.0-py3-none-any.whl.metadata (5.7 kB)\n",
            "Collecting tomli>=2.0.2 (from crewai)\n",
            "  Downloading tomli-2.2.1-cp311-cp311-manylinux_2_17_x86_64.manylinux2014_x86_64.whl.metadata (11 kB)\n",
            "Collecting uv>=0.4.25 (from crewai)\n",
            "  Downloading uv-0.5.23-py3-none-manylinux_2_17_x86_64.manylinux2014_x86_64.whl.metadata (11 kB)\n",
            "Requirement already satisfied: aiohttp in /usr/local/lib/python3.11/dist-packages (from litellm==1.57.4->crewai) (3.11.11)\n",
            "Collecting httpx<0.28.0,>=0.23.0 (from litellm==1.57.4->crewai)\n",
            "  Downloading httpx-0.27.2-py3-none-any.whl.metadata (7.1 kB)\n",
            "Requirement already satisfied: importlib-metadata>=6.8.0 in /usr/local/lib/python3.11/dist-packages (from litellm==1.57.4->crewai) (8.5.0)\n",
            "Requirement already satisfied: jinja2<4.0.0,>=3.1.2 in /usr/local/lib/python3.11/dist-packages (from litellm==1.57.4->crewai) (3.1.5)\n",
            "Requirement already satisfied: jsonschema<5.0.0,>=4.22.0 in /usr/local/lib/python3.11/dist-packages (from litellm==1.57.4->crewai) (4.23.0)\n",
            "Collecting tiktoken>=0.7.0 (from litellm==1.57.4->crewai)\n",
            "  Downloading tiktoken-0.8.0-cp311-cp311-manylinux_2_17_x86_64.manylinux2014_x86_64.whl.metadata (6.6 kB)\n",
            "Requirement already satisfied: tokenizers in /usr/local/lib/python3.11/dist-packages (from litellm==1.57.4->crewai) (0.21.0)\n",
            "Requirement already satisfied: cryptography<44.0.0,>=43.0.1 in /usr/local/lib/python3.11/dist-packages (from auth0-python>=4.7.1->crewai) (43.0.3)\n",
            "Requirement already satisfied: pyjwt<3.0.0,>=2.8.0 in /usr/local/lib/python3.11/dist-packages (from auth0-python>=4.7.1->crewai) (2.10.1)\n",
            "Requirement already satisfied: requests<3.0.0,>=2.31.0 in /usr/local/lib/python3.11/dist-packages (from auth0-python>=4.7.1->crewai) (2.32.3)\n",
            "Requirement already satisfied: urllib3<3.0.0,>=2.0.7 in /usr/local/lib/python3.11/dist-packages (from auth0-python>=4.7.1->crewai) (2.3.0)\n",
            "Collecting build>=1.0.3 (from chromadb>=0.5.23->crewai)\n",
            "  Downloading build-1.2.2.post1-py3-none-any.whl.metadata (6.5 kB)\n",
            "Collecting chroma-hnswlib==0.7.6 (from chromadb>=0.5.23->crewai)\n",
            "  Downloading chroma_hnswlib-0.7.6-cp311-cp311-manylinux_2_17_x86_64.manylinux2014_x86_64.whl.metadata (252 bytes)\n",
            "Collecting fastapi>=0.95.2 (from chromadb>=0.5.23->crewai)\n",
            "  Downloading fastapi-0.115.7-py3-none-any.whl.metadata (27 kB)\n",
            "Collecting uvicorn>=0.18.3 (from uvicorn[standard]>=0.18.3->chromadb>=0.5.23->crewai)\n",
            "  Downloading uvicorn-0.34.0-py3-none-any.whl.metadata (6.5 kB)\n",
            "Requirement already satisfied: numpy>=1.22.5 in /usr/local/lib/python3.11/dist-packages (from chromadb>=0.5.23->crewai) (1.26.4)\n",
            "Collecting posthog>=2.4.0 (from chromadb>=0.5.23->crewai)\n",
            "  Downloading posthog-3.9.3-py2.py3-none-any.whl.metadata (2.8 kB)\n",
            "Requirement already satisfied: typing_extensions>=4.5.0 in /usr/local/lib/python3.11/dist-packages (from chromadb>=0.5.23->crewai) (4.12.2)\n",
            "Collecting onnxruntime>=1.14.1 (from chromadb>=0.5.23->crewai)\n",
            "  Downloading onnxruntime-1.20.1-cp311-cp311-manylinux_2_27_x86_64.manylinux_2_28_x86_64.whl.metadata (4.5 kB)\n",
            "Collecting opentelemetry-exporter-otlp-proto-grpc>=1.2.0 (from chromadb>=0.5.23->crewai)\n",
            "  Downloading opentelemetry_exporter_otlp_proto_grpc-1.29.0-py3-none-any.whl.metadata (2.2 kB)\n",
            "Collecting opentelemetry-instrumentation-fastapi>=0.41b0 (from chromadb>=0.5.23->crewai)\n",
            "  Downloading opentelemetry_instrumentation_fastapi-0.50b0-py3-none-any.whl.metadata (2.1 kB)\n",
            "Collecting pypika>=0.48.9 (from chromadb>=0.5.23->crewai)\n",
            "  Downloading PyPika-0.48.9.tar.gz (67 kB)\n",
            "\u001b[2K     \u001b[90m━━━━━━━━━━━━━━━━━━━━━━━━━━━━━━━━━━━━━━━━\u001b[0m \u001b[32m67.3/67.3 kB\u001b[0m \u001b[31m5.1 MB/s\u001b[0m eta \u001b[36m0:00:00\u001b[0m\n",
            "\u001b[?25h  Installing build dependencies ... \u001b[?25l\u001b[?25hdone\n",
            "  Getting requirements to build wheel ... \u001b[?25l\u001b[?25hdone\n",
            "  Preparing metadata (pyproject.toml) ... \u001b[?25l\u001b[?25hdone\n",
            "Requirement already satisfied: tqdm>=4.65.0 in /usr/local/lib/python3.11/dist-packages (from chromadb>=0.5.23->crewai) (4.67.1)\n",
            "Collecting overrides>=7.3.1 (from chromadb>=0.5.23->crewai)\n",
            "  Downloading overrides-7.7.0-py3-none-any.whl.metadata (5.8 kB)\n",
            "Requirement already satisfied: importlib-resources in /usr/local/lib/python3.11/dist-packages (from chromadb>=0.5.23->crewai) (6.5.2)\n",
            "Requirement already satisfied: grpcio>=1.58.0 in /usr/local/lib/python3.11/dist-packages (from chromadb>=0.5.23->crewai) (1.69.0)\n",
            "Collecting bcrypt>=4.0.1 (from chromadb>=0.5.23->crewai)\n",
            "  Downloading bcrypt-4.2.1-cp39-abi3-manylinux_2_28_x86_64.whl.metadata (9.8 kB)\n",
            "Requirement already satisfied: typer>=0.9.0 in /usr/local/lib/python3.11/dist-packages (from chromadb>=0.5.23->crewai) (0.15.1)\n",
            "Collecting kubernetes>=28.1.0 (from chromadb>=0.5.23->crewai)\n",
            "  Downloading kubernetes-31.0.0-py2.py3-none-any.whl.metadata (1.5 kB)\n",
            "Requirement already satisfied: tenacity>=8.2.3 in /usr/local/lib/python3.11/dist-packages (from chromadb>=0.5.23->crewai) (9.0.0)\n",
            "Requirement already satisfied: PyYAML>=6.0.0 in /usr/local/lib/python3.11/dist-packages (from chromadb>=0.5.23->crewai) (6.0.2)\n",
            "Collecting mmh3>=4.0.1 (from chromadb>=0.5.23->crewai)\n",
            "  Downloading mmh3-5.0.1-cp311-cp311-manylinux_2_5_x86_64.manylinux1_x86_64.manylinux_2_17_x86_64.manylinux2014_x86_64.whl.metadata (14 kB)\n",
            "Requirement already satisfied: orjson>=3.9.12 in /usr/local/lib/python3.11/dist-packages (from chromadb>=0.5.23->crewai) (3.10.14)\n",
            "Requirement already satisfied: rich>=10.11.0 in /usr/local/lib/python3.11/dist-packages (from chromadb>=0.5.23->crewai) (13.9.4)\n",
            "Requirement already satisfied: docstring-parser<1.0,>=0.16 in /usr/local/lib/python3.11/dist-packages (from instructor>=1.3.3->crewai) (0.16)\n",
            "Requirement already satisfied: jiter<0.9,>=0.6.1 in /usr/local/lib/python3.11/dist-packages (from instructor>=1.3.3->crewai) (0.8.2)\n",
            "Requirement already satisfied: pydantic-core<3.0.0,>=2.18.0 in /usr/local/lib/python3.11/dist-packages (from instructor>=1.3.3->crewai) (2.27.2)\n",
            "Requirement already satisfied: anyio<5,>=3.5.0 in /usr/local/lib/python3.11/dist-packages (from openai>=1.13.3->crewai) (3.7.1)\n",
            "Requirement already satisfied: distro<2,>=1.7.0 in /usr/local/lib/python3.11/dist-packages (from openai>=1.13.3->crewai) (1.9.0)\n",
            "Requirement already satisfied: sniffio in /usr/local/lib/python3.11/dist-packages (from openai>=1.13.3->crewai) (1.3.1)\n",
            "Requirement already satisfied: et-xmlfile in /usr/local/lib/python3.11/dist-packages (from openpyxl>=3.1.5->crewai) (2.0.0)\n",
            "Requirement already satisfied: deprecated>=1.2.6 in /usr/local/lib/python3.11/dist-packages (from opentelemetry-api>=1.22.0->crewai) (1.2.15)\n",
            "Requirement already satisfied: googleapis-common-protos~=1.52 in /usr/local/lib/python3.11/dist-packages (from opentelemetry-exporter-otlp-proto-http>=1.22.0->crewai) (1.66.0)\n",
            "Collecting opentelemetry-exporter-otlp-proto-common==1.29.0 (from opentelemetry-exporter-otlp-proto-http>=1.22.0->crewai)\n",
            "  Downloading opentelemetry_exporter_otlp_proto_common-1.29.0-py3-none-any.whl.metadata (1.8 kB)\n",
            "Collecting opentelemetry-proto==1.29.0 (from opentelemetry-exporter-otlp-proto-http>=1.22.0->crewai)\n",
            "  Downloading opentelemetry_proto-1.29.0-py3-none-any.whl.metadata (2.3 kB)\n",
            "Collecting protobuf<6.0,>=5.0 (from opentelemetry-proto==1.29.0->opentelemetry-exporter-otlp-proto-http>=1.22.0->crewai)\n",
            "  Downloading protobuf-5.29.3-cp38-abi3-manylinux2014_x86_64.whl.metadata (592 bytes)\n",
            "Requirement already satisfied: opentelemetry-semantic-conventions==0.50b0 in /usr/local/lib/python3.11/dist-packages (from opentelemetry-sdk>=1.22.0->crewai) (0.50b0)\n",
            "Collecting pdfminer.six==20231228 (from pdfplumber>=0.11.4->crewai)\n",
            "  Downloading pdfminer.six-20231228-py3-none-any.whl.metadata (4.2 kB)\n",
            "Requirement already satisfied: Pillow>=9.1 in /usr/local/lib/python3.11/dist-packages (from pdfplumber>=0.11.4->crewai) (11.1.0)\n",
            "Collecting pypdfium2>=4.18.0 (from pdfplumber>=0.11.4->crewai)\n",
            "  Downloading pypdfium2-4.30.1-py3-none-manylinux_2_17_x86_64.manylinux2014_x86_64.whl.metadata (48 kB)\n",
            "\u001b[2K     \u001b[90m━━━━━━━━━━━━━━━━━━━━━━━━━━━━━━━━━━━━━━━━\u001b[0m \u001b[32m48.2/48.2 kB\u001b[0m \u001b[31m2.7 MB/s\u001b[0m eta \u001b[36m0:00:00\u001b[0m\n",
            "\u001b[?25hRequirement already satisfied: charset-normalizer>=2.0.0 in /usr/local/lib/python3.11/dist-packages (from pdfminer.six==20231228->pdfplumber>=0.11.4->crewai) (3.4.1)\n",
            "Requirement already satisfied: annotated-types>=0.6.0 in /usr/local/lib/python3.11/dist-packages (from pydantic>=2.4.2->crewai) (0.7.0)\n",
            "Requirement already satisfied: ipython>=5.3.0 in /usr/local/lib/python3.11/dist-packages (from pyvis>=0.3.2->crewai) (7.34.0)\n",
            "Requirement already satisfied: jsonpickle>=1.4.1 in /usr/local/lib/python3.11/dist-packages (from pyvis>=0.3.2->crewai) (4.0.1)\n",
            "Requirement already satisfied: networkx>=1.11 in /usr/local/lib/python3.11/dist-packages (from pyvis>=0.3.2->crewai) (3.4.2)\n",
            "Requirement already satisfied: aiohappyeyeballs>=2.3.0 in /usr/local/lib/python3.11/dist-packages (from aiohttp->litellm==1.57.4->crewai) (2.4.4)\n",
            "Requirement already satisfied: aiosignal>=1.1.2 in /usr/local/lib/python3.11/dist-packages (from aiohttp->litellm==1.57.4->crewai) (1.3.2)\n",
            "Requirement already satisfied: attrs>=17.3.0 in /usr/local/lib/python3.11/dist-packages (from aiohttp->litellm==1.57.4->crewai) (24.3.0)\n",
            "Requirement already satisfied: frozenlist>=1.1.1 in /usr/local/lib/python3.11/dist-packages (from aiohttp->litellm==1.57.4->crewai) (1.5.0)\n",
            "Requirement already satisfied: multidict<7.0,>=4.5 in /usr/local/lib/python3.11/dist-packages (from aiohttp->litellm==1.57.4->crewai) (6.1.0)\n",
            "Requirement already satisfied: propcache>=0.2.0 in /usr/local/lib/python3.11/dist-packages (from aiohttp->litellm==1.57.4->crewai) (0.2.1)\n",
            "Requirement already satisfied: yarl<2.0,>=1.17.0 in /usr/local/lib/python3.11/dist-packages (from aiohttp->litellm==1.57.4->crewai) (1.18.3)\n",
            "Requirement already satisfied: idna>=2.8 in /usr/local/lib/python3.11/dist-packages (from anyio<5,>=3.5.0->openai>=1.13.3->crewai) (3.10)\n",
            "Requirement already satisfied: packaging>=19.1 in /usr/local/lib/python3.11/dist-packages (from build>=1.0.3->chromadb>=0.5.23->crewai) (24.2)\n",
            "Collecting pyproject_hooks (from build>=1.0.3->chromadb>=0.5.23->crewai)\n",
            "  Downloading pyproject_hooks-1.2.0-py3-none-any.whl.metadata (1.3 kB)\n",
            "Requirement already satisfied: cffi>=1.12 in /usr/local/lib/python3.11/dist-packages (from cryptography<44.0.0,>=43.0.1->auth0-python>=4.7.1->crewai) (1.17.1)\n",
            "Requirement already satisfied: wrapt<2,>=1.10 in /usr/local/lib/python3.11/dist-packages (from deprecated>=1.2.6->opentelemetry-api>=1.22.0->crewai) (1.17.0)\n",
            "Collecting starlette<0.46.0,>=0.40.0 (from fastapi>=0.95.2->chromadb>=0.5.23->crewai)\n",
            "  Downloading starlette-0.45.2-py3-none-any.whl.metadata (6.3 kB)\n",
            "Requirement already satisfied: certifi in /usr/local/lib/python3.11/dist-packages (from httpx<0.28.0,>=0.23.0->litellm==1.57.4->crewai) (2024.12.14)\n",
            "Requirement already satisfied: httpcore==1.* in /usr/local/lib/python3.11/dist-packages (from httpx<0.28.0,>=0.23.0->litellm==1.57.4->crewai) (1.0.7)\n",
            "Requirement already satisfied: h11<0.15,>=0.13 in /usr/local/lib/python3.11/dist-packages (from httpcore==1.*->httpx<0.28.0,>=0.23.0->litellm==1.57.4->crewai) (0.14.0)\n",
            "Requirement already satisfied: zipp>=3.20 in /usr/local/lib/python3.11/dist-packages (from importlib-metadata>=6.8.0->litellm==1.57.4->crewai) (3.21.0)\n",
            "Requirement already satisfied: setuptools>=18.5 in /usr/local/lib/python3.11/dist-packages (from ipython>=5.3.0->pyvis>=0.3.2->crewai) (75.1.0)\n",
            "Collecting jedi>=0.16 (from ipython>=5.3.0->pyvis>=0.3.2->crewai)\n",
            "  Downloading jedi-0.19.2-py2.py3-none-any.whl.metadata (22 kB)\n",
            "Requirement already satisfied: decorator in /usr/local/lib/python3.11/dist-packages (from ipython>=5.3.0->pyvis>=0.3.2->crewai) (4.4.2)\n",
            "Requirement already satisfied: pickleshare in /usr/local/lib/python3.11/dist-packages (from ipython>=5.3.0->pyvis>=0.3.2->crewai) (0.7.5)\n",
            "Requirement already satisfied: traitlets>=4.2 in /usr/local/lib/python3.11/dist-packages (from ipython>=5.3.0->pyvis>=0.3.2->crewai) (5.7.1)\n",
            "Requirement already satisfied: prompt-toolkit!=3.0.0,!=3.0.1,<3.1.0,>=2.0.0 in /usr/local/lib/python3.11/dist-packages (from ipython>=5.3.0->pyvis>=0.3.2->crewai) (3.0.48)\n",
            "Requirement already satisfied: pygments in /usr/local/lib/python3.11/dist-packages (from ipython>=5.3.0->pyvis>=0.3.2->crewai) (2.18.0)\n",
            "Requirement already satisfied: backcall in /usr/local/lib/python3.11/dist-packages (from ipython>=5.3.0->pyvis>=0.3.2->crewai) (0.2.0)\n",
            "Requirement already satisfied: matplotlib-inline in /usr/local/lib/python3.11/dist-packages (from ipython>=5.3.0->pyvis>=0.3.2->crewai) (0.1.7)\n",
            "Requirement already satisfied: pexpect>4.3 in /usr/local/lib/python3.11/dist-packages (from ipython>=5.3.0->pyvis>=0.3.2->crewai) (4.9.0)\n",
            "Requirement already satisfied: MarkupSafe>=2.0 in /usr/local/lib/python3.11/dist-packages (from jinja2<4.0.0,>=3.1.2->litellm==1.57.4->crewai) (3.0.2)\n",
            "Requirement already satisfied: jsonschema-specifications>=2023.03.6 in /usr/local/lib/python3.11/dist-packages (from jsonschema<5.0.0,>=4.22.0->litellm==1.57.4->crewai) (2024.10.1)\n",
            "Requirement already satisfied: referencing>=0.28.4 in /usr/local/lib/python3.11/dist-packages (from jsonschema<5.0.0,>=4.22.0->litellm==1.57.4->crewai) (0.35.1)\n",
            "Requirement already satisfied: rpds-py>=0.7.1 in /usr/local/lib/python3.11/dist-packages (from jsonschema<5.0.0,>=4.22.0->litellm==1.57.4->crewai) (0.22.3)\n",
            "Requirement already satisfied: six>=1.9.0 in /usr/local/lib/python3.11/dist-packages (from kubernetes>=28.1.0->chromadb>=0.5.23->crewai) (1.17.0)\n",
            "Requirement already satisfied: python-dateutil>=2.5.3 in /usr/local/lib/python3.11/dist-packages (from kubernetes>=28.1.0->chromadb>=0.5.23->crewai) (2.8.2)\n",
            "Requirement already satisfied: google-auth>=1.0.1 in /usr/local/lib/python3.11/dist-packages (from kubernetes>=28.1.0->chromadb>=0.5.23->crewai) (2.27.0)\n",
            "Requirement already satisfied: websocket-client!=0.40.0,!=0.41.*,!=0.42.*,>=0.32.0 in /usr/local/lib/python3.11/dist-packages (from kubernetes>=28.1.0->chromadb>=0.5.23->crewai) (1.8.0)\n",
            "Requirement already satisfied: requests-oauthlib in /usr/local/lib/python3.11/dist-packages (from kubernetes>=28.1.0->chromadb>=0.5.23->crewai) (1.3.1)\n",
            "Requirement already satisfied: oauthlib>=3.2.2 in /usr/local/lib/python3.11/dist-packages (from kubernetes>=28.1.0->chromadb>=0.5.23->crewai) (3.2.2)\n",
            "Collecting durationpy>=0.7 (from kubernetes>=28.1.0->chromadb>=0.5.23->crewai)\n",
            "  Downloading durationpy-0.9-py3-none-any.whl.metadata (338 bytes)\n",
            "Collecting coloredlogs (from onnxruntime>=1.14.1->chromadb>=0.5.23->crewai)\n",
            "  Downloading coloredlogs-15.0.1-py2.py3-none-any.whl.metadata (12 kB)\n",
            "Requirement already satisfied: flatbuffers in /usr/local/lib/python3.11/dist-packages (from onnxruntime>=1.14.1->chromadb>=0.5.23->crewai) (24.12.23)\n",
            "Requirement already satisfied: sympy in /usr/local/lib/python3.11/dist-packages (from onnxruntime>=1.14.1->chromadb>=0.5.23->crewai) (1.13.1)\n",
            "Collecting opentelemetry-instrumentation-asgi==0.50b0 (from opentelemetry-instrumentation-fastapi>=0.41b0->chromadb>=0.5.23->crewai)\n",
            "  Downloading opentelemetry_instrumentation_asgi-0.50b0-py3-none-any.whl.metadata (1.9 kB)\n",
            "Collecting opentelemetry-instrumentation==0.50b0 (from opentelemetry-instrumentation-fastapi>=0.41b0->chromadb>=0.5.23->crewai)\n",
            "  Downloading opentelemetry_instrumentation-0.50b0-py3-none-any.whl.metadata (6.1 kB)\n",
            "Collecting opentelemetry-util-http==0.50b0 (from opentelemetry-instrumentation-fastapi>=0.41b0->chromadb>=0.5.23->crewai)\n",
            "  Downloading opentelemetry_util_http-0.50b0-py3-none-any.whl.metadata (2.5 kB)\n",
            "Collecting asgiref~=3.0 (from opentelemetry-instrumentation-asgi==0.50b0->opentelemetry-instrumentation-fastapi>=0.41b0->chromadb>=0.5.23->crewai)\n",
            "  Downloading asgiref-3.8.1-py3-none-any.whl.metadata (9.3 kB)\n",
            "Collecting monotonic>=1.5 (from posthog>=2.4.0->chromadb>=0.5.23->crewai)\n",
            "  Downloading monotonic-1.6-py2.py3-none-any.whl.metadata (1.5 kB)\n",
            "Collecting backoff>=1.10.0 (from posthog>=2.4.0->chromadb>=0.5.23->crewai)\n",
            "  Downloading backoff-2.2.1-py3-none-any.whl.metadata (14 kB)\n",
            "Requirement already satisfied: markdown-it-py>=2.2.0 in /usr/local/lib/python3.11/dist-packages (from rich>=10.11.0->chromadb>=0.5.23->crewai) (3.0.0)\n",
            "Requirement already satisfied: huggingface-hub<1.0,>=0.16.4 in /usr/local/lib/python3.11/dist-packages (from tokenizers->litellm==1.57.4->crewai) (0.27.1)\n",
            "Requirement already satisfied: shellingham>=1.3.0 in /usr/local/lib/python3.11/dist-packages (from typer>=0.9.0->chromadb>=0.5.23->crewai) (1.5.4)\n",
            "Collecting httptools>=0.6.3 (from uvicorn[standard]>=0.18.3->chromadb>=0.5.23->crewai)\n",
            "  Downloading httptools-0.6.4-cp311-cp311-manylinux_2_5_x86_64.manylinux1_x86_64.manylinux_2_17_x86_64.manylinux2014_x86_64.whl.metadata (3.6 kB)\n",
            "Collecting uvloop!=0.15.0,!=0.15.1,>=0.14.0 (from uvicorn[standard]>=0.18.3->chromadb>=0.5.23->crewai)\n",
            "  Downloading uvloop-0.21.0-cp311-cp311-manylinux_2_17_x86_64.manylinux2014_x86_64.whl.metadata (4.9 kB)\n",
            "Collecting watchfiles>=0.13 (from uvicorn[standard]>=0.18.3->chromadb>=0.5.23->crewai)\n",
            "  Downloading watchfiles-1.0.4-cp311-cp311-manylinux_2_17_x86_64.manylinux2014_x86_64.whl.metadata (4.9 kB)\n",
            "Requirement already satisfied: websockets>=10.4 in /usr/local/lib/python3.11/dist-packages (from uvicorn[standard]>=0.18.3->chromadb>=0.5.23->crewai) (14.1)\n",
            "Requirement already satisfied: pycparser in /usr/local/lib/python3.11/dist-packages (from cffi>=1.12->cryptography<44.0.0,>=43.0.1->auth0-python>=4.7.1->crewai) (2.22)\n",
            "Requirement already satisfied: cachetools<6.0,>=2.0.0 in /usr/local/lib/python3.11/dist-packages (from google-auth>=1.0.1->kubernetes>=28.1.0->chromadb>=0.5.23->crewai) (5.5.0)\n",
            "Requirement already satisfied: pyasn1-modules>=0.2.1 in /usr/local/lib/python3.11/dist-packages (from google-auth>=1.0.1->kubernetes>=28.1.0->chromadb>=0.5.23->crewai) (0.4.1)\n",
            "Requirement already satisfied: rsa<5,>=3.1.4 in /usr/local/lib/python3.11/dist-packages (from google-auth>=1.0.1->kubernetes>=28.1.0->chromadb>=0.5.23->crewai) (4.9)\n",
            "Requirement already satisfied: filelock in /usr/local/lib/python3.11/dist-packages (from huggingface-hub<1.0,>=0.16.4->tokenizers->litellm==1.57.4->crewai) (3.16.1)\n",
            "Requirement already satisfied: fsspec>=2023.5.0 in /usr/local/lib/python3.11/dist-packages (from huggingface-hub<1.0,>=0.16.4->tokenizers->litellm==1.57.4->crewai) (2024.10.0)\n",
            "Requirement already satisfied: parso<0.9.0,>=0.8.4 in /usr/local/lib/python3.11/dist-packages (from jedi>=0.16->ipython>=5.3.0->pyvis>=0.3.2->crewai) (0.8.4)\n",
            "Requirement already satisfied: mdurl~=0.1 in /usr/local/lib/python3.11/dist-packages (from markdown-it-py>=2.2.0->rich>=10.11.0->chromadb>=0.5.23->crewai) (0.1.2)\n",
            "Requirement already satisfied: ptyprocess>=0.5 in /usr/local/lib/python3.11/dist-packages (from pexpect>4.3->ipython>=5.3.0->pyvis>=0.3.2->crewai) (0.7.0)\n",
            "Requirement already satisfied: wcwidth in /usr/local/lib/python3.11/dist-packages (from prompt-toolkit!=3.0.0,!=3.0.1,<3.1.0,>=2.0.0->ipython>=5.3.0->pyvis>=0.3.2->crewai) (0.2.13)\n",
            "Collecting humanfriendly>=9.1 (from coloredlogs->onnxruntime>=1.14.1->chromadb>=0.5.23->crewai)\n",
            "  Downloading humanfriendly-10.0-py2.py3-none-any.whl.metadata (9.2 kB)\n",
            "Requirement already satisfied: mpmath<1.4,>=1.1.0 in /usr/local/lib/python3.11/dist-packages (from sympy->onnxruntime>=1.14.1->chromadb>=0.5.23->crewai) (1.3.0)\n",
            "Requirement already satisfied: pyasn1<0.7.0,>=0.4.6 in /usr/local/lib/python3.11/dist-packages (from pyasn1-modules>=0.2.1->google-auth>=1.0.1->kubernetes>=28.1.0->chromadb>=0.5.23->crewai) (0.6.1)\n",
            "Downloading crewai-0.98.0-py3-none-any.whl (231 kB)\n",
            "\u001b[2K   \u001b[90m━━━━━━━━━━━━━━━━━━━━━━━━━━━━━━━━━━━━━━━━\u001b[0m \u001b[32m231.3/231.3 kB\u001b[0m \u001b[31m8.6 MB/s\u001b[0m eta \u001b[36m0:00:00\u001b[0m\n",
            "\u001b[?25hDownloading litellm-1.57.4-py3-none-any.whl (6.6 MB)\n",
            "\u001b[2K   \u001b[90m━━━━━━━━━━━━━━━━━━━━━━━━━━━━━━━━━━━━━━━━\u001b[0m \u001b[32m6.6/6.6 MB\u001b[0m \u001b[31m52.9 MB/s\u001b[0m eta \u001b[36m0:00:00\u001b[0m\n",
            "\u001b[?25hDownloading appdirs-1.4.4-py2.py3-none-any.whl (9.6 kB)\n",
            "Downloading auth0_python-4.7.2-py3-none-any.whl (131 kB)\n",
            "\u001b[2K   \u001b[90m━━━━━━━━━━━━━━━━━━━━━━━━━━━━━━━━━━━━━━━━\u001b[0m \u001b[32m131.8/131.8 kB\u001b[0m \u001b[31m7.4 MB/s\u001b[0m eta \u001b[36m0:00:00\u001b[0m\n",
            "\u001b[?25hDownloading chromadb-0.6.3-py3-none-any.whl (611 kB)\n",
            "\u001b[2K   \u001b[90m━━━━━━━━━━━━━━━━━━━━━━━━━━━━━━━━━━━━━━━━\u001b[0m \u001b[32m611.1/611.1 kB\u001b[0m \u001b[31m28.3 MB/s\u001b[0m eta \u001b[36m0:00:00\u001b[0m\n",
            "\u001b[?25hDownloading chroma_hnswlib-0.7.6-cp311-cp311-manylinux_2_17_x86_64.manylinux2014_x86_64.whl (2.4 MB)\n",
            "\u001b[2K   \u001b[90m━━━━━━━━━━━━━━━━━━━━━━━━━━━━━━━━━━━━━━━━\u001b[0m \u001b[32m2.4/2.4 MB\u001b[0m \u001b[31m43.6 MB/s\u001b[0m eta \u001b[36m0:00:00\u001b[0m\n",
            "\u001b[?25hDownloading instructor-1.7.2-py3-none-any.whl (71 kB)\n",
            "\u001b[2K   \u001b[90m━━━━━━━━━━━━━━━━━━━━━━━━━━━━━━━━━━━━━━━━\u001b[0m \u001b[32m71.4/71.4 kB\u001b[0m \u001b[31m3.6 MB/s\u001b[0m eta \u001b[36m0:00:00\u001b[0m\n",
            "\u001b[?25hDownloading json_repair-0.35.0-py3-none-any.whl (19 kB)\n",
            "Downloading jsonref-1.1.0-py3-none-any.whl (9.4 kB)\n",
            "Downloading opentelemetry_exporter_otlp_proto_http-1.29.0-py3-none-any.whl (17 kB)\n",
            "Downloading opentelemetry_exporter_otlp_proto_common-1.29.0-py3-none-any.whl (18 kB)\n",
            "Downloading opentelemetry_proto-1.29.0-py3-none-any.whl (55 kB)\n",
            "\u001b[2K   \u001b[90m━━━━━━━━━━━━━━━━━━━━━━━━━━━━━━━━━━━━━━━━\u001b[0m \u001b[32m55.8/55.8 kB\u001b[0m \u001b[31m3.5 MB/s\u001b[0m eta \u001b[36m0:00:00\u001b[0m\n",
            "\u001b[?25hDownloading pdfplumber-0.11.5-py3-none-any.whl (59 kB)\n",
            "\u001b[2K   \u001b[90m━━━━━━━━━━━━━━━━━━━━━━━━━━━━━━━━━━━━━━━━\u001b[0m \u001b[32m59.5/59.5 kB\u001b[0m \u001b[31m4.0 MB/s\u001b[0m eta \u001b[36m0:00:00\u001b[0m\n",
            "\u001b[?25hDownloading pdfminer.six-20231228-py3-none-any.whl (5.6 MB)\n",
            "\u001b[2K   \u001b[90m━━━━━━━━━━━━━━━━━━━━━━━━━━━━━━━━━━━━━━━━\u001b[0m \u001b[32m5.6/5.6 MB\u001b[0m \u001b[31m46.2 MB/s\u001b[0m eta \u001b[36m0:00:00\u001b[0m\n",
            "\u001b[?25hDownloading python_dotenv-1.0.1-py3-none-any.whl (19 kB)\n",
            "Downloading pyvis-0.3.2-py3-none-any.whl (756 kB)\n",
            "\u001b[2K   \u001b[90m━━━━━━━━━━━━━━━━━━━━━━━━━━━━━━━━━━━━━━━━\u001b[0m \u001b[32m756.0/756.0 kB\u001b[0m \u001b[31m25.3 MB/s\u001b[0m eta \u001b[36m0:00:00\u001b[0m\n",
            "\u001b[?25hDownloading tomli-2.2.1-cp311-cp311-manylinux_2_17_x86_64.manylinux2014_x86_64.whl (236 kB)\n",
            "\u001b[2K   \u001b[90m━━━━━━━━━━━━━━━━━━━━━━━━━━━━━━━━━━━━━━━━\u001b[0m \u001b[32m236.0/236.0 kB\u001b[0m \u001b[31m11.7 MB/s\u001b[0m eta \u001b[36m0:00:00\u001b[0m\n",
            "\u001b[?25hDownloading tomli_w-1.2.0-py3-none-any.whl (6.7 kB)\n",
            "Downloading uv-0.5.23-py3-none-manylinux_2_17_x86_64.manylinux2014_x86_64.whl (16.2 MB)\n",
            "\u001b[2K   \u001b[90m━━━━━━━━━━━━━━━━━━━━━━━━━━━━━━━━━━━━━━━━\u001b[0m \u001b[32m16.2/16.2 MB\u001b[0m \u001b[31m28.1 MB/s\u001b[0m eta \u001b[36m0:00:00\u001b[0m\n",
            "\u001b[?25hDownloading bcrypt-4.2.1-cp39-abi3-manylinux_2_28_x86_64.whl (278 kB)\n",
            "\u001b[2K   \u001b[90m━━━━━━━━━━━━━━━━━━━━━━━━━━━━━━━━━━━━━━━━\u001b[0m \u001b[32m278.6/278.6 kB\u001b[0m \u001b[31m2.2 MB/s\u001b[0m eta \u001b[36m0:00:00\u001b[0m\n",
            "\u001b[?25hDownloading build-1.2.2.post1-py3-none-any.whl (22 kB)\n",
            "Downloading fastapi-0.115.7-py3-none-any.whl (94 kB)\n",
            "\u001b[2K   \u001b[90m━━━━━━━━━━━━━━━━━━━━━━━━━━━━━━━━━━━━━━━━\u001b[0m \u001b[32m94.8/94.8 kB\u001b[0m \u001b[31m6.1 MB/s\u001b[0m eta \u001b[36m0:00:00\u001b[0m\n",
            "\u001b[?25hDownloading httpx-0.27.2-py3-none-any.whl (76 kB)\n",
            "\u001b[2K   \u001b[90m━━━━━━━━━━━━━━━━━━━━━━━━━━━━━━━━━━━━━━━━\u001b[0m \u001b[32m76.4/76.4 kB\u001b[0m \u001b[31m4.6 MB/s\u001b[0m eta \u001b[36m0:00:00\u001b[0m\n",
            "\u001b[?25hDownloading kubernetes-31.0.0-py2.py3-none-any.whl (1.9 MB)\n",
            "\u001b[2K   \u001b[90m━━━━━━━━━━━━━━━━━━━━━━━━━━━━━━━━━━━━━━━━\u001b[0m \u001b[32m1.9/1.9 MB\u001b[0m \u001b[31m30.3 MB/s\u001b[0m eta \u001b[36m0:00:00\u001b[0m\n",
            "\u001b[?25hDownloading mmh3-5.0.1-cp311-cp311-manylinux_2_5_x86_64.manylinux1_x86_64.manylinux_2_17_x86_64.manylinux2014_x86_64.whl (94 kB)\n",
            "\u001b[2K   \u001b[90m━━━━━━━━━━━━━━━━━━━━━━━━━━━━━━━━━━━━━━━━\u001b[0m \u001b[32m94.8/94.8 kB\u001b[0m \u001b[31m6.0 MB/s\u001b[0m eta \u001b[36m0:00:00\u001b[0m\n",
            "\u001b[?25hDownloading onnxruntime-1.20.1-cp311-cp311-manylinux_2_27_x86_64.manylinux_2_28_x86_64.whl (13.3 MB)\n",
            "\u001b[2K   \u001b[90m━━━━━━━━━━━━━━━━━━━━━━━━━━━━━━━━━━━━━━━━\u001b[0m \u001b[32m13.3/13.3 MB\u001b[0m \u001b[31m60.2 MB/s\u001b[0m eta \u001b[36m0:00:00\u001b[0m\n",
            "\u001b[?25hDownloading opentelemetry_exporter_otlp_proto_grpc-1.29.0-py3-none-any.whl (18 kB)\n",
            "Downloading opentelemetry_instrumentation_fastapi-0.50b0-py3-none-any.whl (12 kB)\n",
            "Downloading opentelemetry_instrumentation-0.50b0-py3-none-any.whl (30 kB)\n",
            "Downloading opentelemetry_instrumentation_asgi-0.50b0-py3-none-any.whl (16 kB)\n",
            "Downloading opentelemetry_util_http-0.50b0-py3-none-any.whl (6.9 kB)\n",
            "Downloading overrides-7.7.0-py3-none-any.whl (17 kB)\n",
            "Downloading posthog-3.9.3-py2.py3-none-any.whl (70 kB)\n",
            "\u001b[2K   \u001b[90m━━━━━━━━━━━━━━━━━━━━━━━━━━━━━━━━━━━━━━━━\u001b[0m \u001b[32m71.0/71.0 kB\u001b[0m \u001b[31m4.7 MB/s\u001b[0m eta \u001b[36m0:00:00\u001b[0m\n",
            "\u001b[?25hDownloading pypdfium2-4.30.1-py3-none-manylinux_2_17_x86_64.manylinux2014_x86_64.whl (2.9 MB)\n",
            "\u001b[2K   \u001b[90m━━━━━━━━━━━━━━━━━━━━━━━━━━━━━━━━━━━━━━━━\u001b[0m \u001b[32m2.9/2.9 MB\u001b[0m \u001b[31m52.3 MB/s\u001b[0m eta \u001b[36m0:00:00\u001b[0m\n",
            "\u001b[?25hDownloading tiktoken-0.8.0-cp311-cp311-manylinux_2_17_x86_64.manylinux2014_x86_64.whl (1.2 MB)\n",
            "\u001b[2K   \u001b[90m━━━━━━━━━━━━━━━━━━━━━━━━━━━━━━━━━━━━━━━━\u001b[0m \u001b[32m1.2/1.2 MB\u001b[0m \u001b[31m7.5 MB/s\u001b[0m eta \u001b[36m0:00:00\u001b[0m\n",
            "\u001b[?25hDownloading uvicorn-0.34.0-py3-none-any.whl (62 kB)\n",
            "\u001b[2K   \u001b[90m━━━━━━━━━━━━━━━━━━━━━━━━━━━━━━━━━━━━━━━━\u001b[0m \u001b[32m62.3/62.3 kB\u001b[0m \u001b[31m3.6 MB/s\u001b[0m eta \u001b[36m0:00:00\u001b[0m\n",
            "\u001b[?25hDownloading backoff-2.2.1-py3-none-any.whl (15 kB)\n",
            "Downloading durationpy-0.9-py3-none-any.whl (3.5 kB)\n",
            "Downloading httptools-0.6.4-cp311-cp311-manylinux_2_5_x86_64.manylinux1_x86_64.manylinux_2_17_x86_64.manylinux2014_x86_64.whl (459 kB)\n",
            "\u001b[2K   \u001b[90m━━━━━━━━━━━━━━━━━━━━━━━━━━━━━━━━━━━━━━━━\u001b[0m \u001b[32m459.8/459.8 kB\u001b[0m \u001b[31m22.2 MB/s\u001b[0m eta \u001b[36m0:00:00\u001b[0m\n",
            "\u001b[?25hDownloading jedi-0.19.2-py2.py3-none-any.whl (1.6 MB)\n",
            "\u001b[2K   \u001b[90m━━━━━━━━━━━━━━━━━━━━━━━━━━━━━━━━━━━━━━━━\u001b[0m \u001b[32m1.6/1.6 MB\u001b[0m \u001b[31m42.4 MB/s\u001b[0m eta \u001b[36m0:00:00\u001b[0m\n",
            "\u001b[?25hDownloading monotonic-1.6-py2.py3-none-any.whl (8.2 kB)\n",
            "Downloading protobuf-5.29.3-cp38-abi3-manylinux2014_x86_64.whl (319 kB)\n",
            "\u001b[2K   \u001b[90m━━━━━━━━━━━━━━━━━━━━━━━━━━━━━━━━━━━━━━━━\u001b[0m \u001b[32m319.7/319.7 kB\u001b[0m \u001b[31m18.8 MB/s\u001b[0m eta \u001b[36m0:00:00\u001b[0m\n",
            "\u001b[?25hDownloading starlette-0.45.2-py3-none-any.whl (71 kB)\n",
            "\u001b[2K   \u001b[90m━━━━━━━━━━━━━━━━━━━━━━━━━━━━━━━━━━━━━━━━\u001b[0m \u001b[32m71.5/71.5 kB\u001b[0m \u001b[31m4.4 MB/s\u001b[0m eta \u001b[36m0:00:00\u001b[0m\n",
            "\u001b[?25hDownloading uvloop-0.21.0-cp311-cp311-manylinux_2_17_x86_64.manylinux2014_x86_64.whl (4.0 MB)\n",
            "\u001b[2K   \u001b[90m━━━━━━━━━━━━━━━━━━━━━━━━━━━━━━━━━━━━━━━━\u001b[0m \u001b[32m4.0/4.0 MB\u001b[0m \u001b[31m18.1 MB/s\u001b[0m eta \u001b[36m0:00:00\u001b[0m\n",
            "\u001b[?25hDownloading watchfiles-1.0.4-cp311-cp311-manylinux_2_17_x86_64.manylinux2014_x86_64.whl (452 kB)\n",
            "\u001b[2K   \u001b[90m━━━━━━━━━━━━━━━━━━━━━━━━━━━━━━━━━━━━━━━━\u001b[0m \u001b[32m452.6/452.6 kB\u001b[0m \u001b[31m14.6 MB/s\u001b[0m eta \u001b[36m0:00:00\u001b[0m\n",
            "\u001b[?25hDownloading coloredlogs-15.0.1-py2.py3-none-any.whl (46 kB)\n",
            "\u001b[2K   \u001b[90m━━━━━━━━━━━━━━━━━━━━━━━━━━━━━━━━━━━━━━━━\u001b[0m \u001b[32m46.0/46.0 kB\u001b[0m \u001b[31m2.7 MB/s\u001b[0m eta \u001b[36m0:00:00\u001b[0m\n",
            "\u001b[?25hDownloading pyproject_hooks-1.2.0-py3-none-any.whl (10 kB)\n",
            "Downloading asgiref-3.8.1-py3-none-any.whl (23 kB)\n",
            "Downloading humanfriendly-10.0-py2.py3-none-any.whl (86 kB)\n",
            "\u001b[2K   \u001b[90m━━━━━━━━━━━━━━━━━━━━━━━━━━━━━━━━━━━━━━━━\u001b[0m \u001b[32m86.8/86.8 kB\u001b[0m \u001b[31m5.5 MB/s\u001b[0m eta \u001b[36m0:00:00\u001b[0m\n",
            "\u001b[?25hBuilding wheels for collected packages: pypika\n",
            "  Building wheel for pypika (pyproject.toml) ... \u001b[?25l\u001b[?25hdone\n",
            "  Created wheel for pypika: filename=PyPika-0.48.9-py2.py3-none-any.whl size=53771 sha256=4bc84da85ac99fb4208e4a07e5ca96a5efc983ccb1c77e302bdacadb102949bd\n",
            "  Stored in directory: /root/.cache/pip/wheels/a3/01/bd/4c40ceb9d5354160cb186dcc153360f4ab7eb23e2b24daf96d\n",
            "Successfully built pypika\n",
            "Installing collected packages: pypika, monotonic, durationpy, appdirs, uvloop, uvicorn, uv, tomli-w, tomli, python-dotenv, pyproject_hooks, pypdfium2, protobuf, overrides, opentelemetry-util-http, mmh3, jsonref, json-repair, jedi, humanfriendly, httptools, chroma-hnswlib, bcrypt, backoff, asgiref, watchfiles, tiktoken, starlette, posthog, opentelemetry-proto, httpx, coloredlogs, build, pyvis, pdfminer.six, opentelemetry-exporter-otlp-proto-common, onnxruntime, kubernetes, fastapi, auth0-python, pdfplumber, opentelemetry-instrumentation, litellm, instructor, opentelemetry-instrumentation-asgi, opentelemetry-exporter-otlp-proto-http, opentelemetry-exporter-otlp-proto-grpc, opentelemetry-instrumentation-fastapi, chromadb, crewai\n",
            "  Attempting uninstall: protobuf\n",
            "    Found existing installation: protobuf 4.25.5\n",
            "    Uninstalling protobuf-4.25.5:\n",
            "      Successfully uninstalled protobuf-4.25.5\n",
            "  Attempting uninstall: httpx\n",
            "    Found existing installation: httpx 0.28.1\n",
            "    Uninstalling httpx-0.28.1:\n",
            "      Successfully uninstalled httpx-0.28.1\n",
            "\u001b[31mERROR: pip's dependency resolver does not currently take into account all the packages that are installed. This behaviour is the source of the following dependency conflicts.\n",
            "tensorflow 2.17.1 requires protobuf!=4.21.0,!=4.21.1,!=4.21.2,!=4.21.3,!=4.21.4,!=4.21.5,<5.0.0dev,>=3.20.3, but you have protobuf 5.29.3 which is incompatible.\u001b[0m\u001b[31m\n",
            "\u001b[0mSuccessfully installed appdirs-1.4.4 asgiref-3.8.1 auth0-python-4.7.2 backoff-2.2.1 bcrypt-4.2.1 build-1.2.2.post1 chroma-hnswlib-0.7.6 chromadb-0.6.3 coloredlogs-15.0.1 crewai-0.98.0 durationpy-0.9 fastapi-0.115.7 httptools-0.6.4 httpx-0.27.2 humanfriendly-10.0 instructor-1.7.2 jedi-0.19.2 json-repair-0.35.0 jsonref-1.1.0 kubernetes-31.0.0 litellm-1.57.4 mmh3-5.0.1 monotonic-1.6 onnxruntime-1.20.1 opentelemetry-exporter-otlp-proto-common-1.29.0 opentelemetry-exporter-otlp-proto-grpc-1.29.0 opentelemetry-exporter-otlp-proto-http-1.29.0 opentelemetry-instrumentation-0.50b0 opentelemetry-instrumentation-asgi-0.50b0 opentelemetry-instrumentation-fastapi-0.50b0 opentelemetry-proto-1.29.0 opentelemetry-util-http-0.50b0 overrides-7.7.0 pdfminer.six-20231228 pdfplumber-0.11.5 posthog-3.9.3 protobuf-5.29.3 pypdfium2-4.30.1 pypika-0.48.9 pyproject_hooks-1.2.0 python-dotenv-1.0.1 pyvis-0.3.2 starlette-0.45.2 tiktoken-0.8.0 tomli-2.2.1 tomli-w-1.2.0 uv-0.5.23 uvicorn-0.34.0 uvloop-0.21.0 watchfiles-1.0.4\n",
            "Collecting crewai_tools\n",
            "  Downloading crewai_tools-0.32.1-py3-none-any.whl.metadata (6.0 kB)\n",
            "Requirement already satisfied: beautifulsoup4>=4.12.3 in /usr/local/lib/python3.11/dist-packages (from crewai_tools) (4.12.3)\n",
            "Requirement already satisfied: chromadb>=0.4.22 in /usr/local/lib/python3.11/dist-packages (from crewai_tools) (0.6.3)\n",
            "Requirement already satisfied: crewai>=0.95.0 in /usr/local/lib/python3.11/dist-packages (from crewai_tools) (0.98.0)\n",
            "Collecting docker>=7.1.0 (from crewai_tools)\n",
            "  Downloading docker-7.1.0-py3-none-any.whl.metadata (3.8 kB)\n",
            "Collecting docx2txt>=0.8 (from crewai_tools)\n",
            "  Downloading docx2txt-0.8.tar.gz (2.8 kB)\n",
            "  Preparing metadata (setup.py) ... \u001b[?25l\u001b[?25hdone\n",
            "Collecting embedchain>=0.1.114 (from crewai_tools)\n",
            "  Downloading embedchain-0.1.126-py3-none-any.whl.metadata (9.3 kB)\n",
            "Collecting lancedb>=0.5.4 (from crewai_tools)\n",
            "  Downloading lancedb-0.18.0-cp39-abi3-manylinux_2_28_x86_64.whl.metadata (4.0 kB)\n",
            "Collecting linkup-sdk>=0.2.1 (from crewai_tools)\n",
            "  Downloading linkup_sdk-0.2.2-py3-none-any.whl.metadata (4.2 kB)\n",
            "Requirement already satisfied: openai>=1.12.0 in /usr/local/lib/python3.11/dist-packages (from crewai_tools) (1.59.6)\n",
            "Collecting patronus>=0.0.16 (from crewai_tools)\n",
            "  Downloading patronus-0.0.17-py3-none-any.whl.metadata (4.2 kB)\n",
            "Requirement already satisfied: pydantic>=2.6.1 in /usr/local/lib/python3.11/dist-packages (from crewai_tools) (2.10.5)\n",
            "Collecting pyright>=1.1.350 (from crewai_tools)\n",
            "  Downloading pyright-1.1.392.post0-py3-none-any.whl.metadata (6.7 kB)\n",
            "Collecting pytube>=15.0.0 (from crewai_tools)\n",
            "  Downloading pytube-15.0.0-py3-none-any.whl.metadata (5.0 kB)\n",
            "Requirement already satisfied: requests>=2.31.0 in /usr/local/lib/python3.11/dist-packages (from crewai_tools) (2.32.3)\n",
            "Collecting scrapegraph-py>=1.8.0 (from crewai_tools)\n",
            "  Downloading scrapegraph_py-1.10.2-py3-none-any.whl.metadata (5.7 kB)\n",
            "Collecting selenium>=4.18.1 (from crewai_tools)\n",
            "  Downloading selenium-4.28.1-py3-none-any.whl.metadata (7.1 kB)\n",
            "Collecting serpapi>=0.1.5 (from crewai_tools)\n",
            "  Downloading serpapi-0.1.5-py2.py3-none-any.whl.metadata (10 kB)\n",
            "Collecting snowflake>=1.0.2 (from crewai_tools)\n",
            "  Downloading snowflake-1.0.2-py3-none-any.whl.metadata (1.9 kB)\n",
            "Collecting spider-client>=0.1.25 (from crewai_tools)\n",
            "  Downloading spider-client-0.1.26.tar.gz (15 kB)\n",
            "  Preparing metadata (setup.py) ... \u001b[?25l\u001b[?25hdone\n",
            "Collecting weaviate-client>=4.9.6 (from crewai_tools)\n",
            "  Downloading weaviate_client-4.10.4-py3-none-any.whl.metadata (3.6 kB)\n",
            "Requirement already satisfied: soupsieve>1.2 in /usr/local/lib/python3.11/dist-packages (from beautifulsoup4>=4.12.3->crewai_tools) (2.6)\n",
            "Requirement already satisfied: build>=1.0.3 in /usr/local/lib/python3.11/dist-packages (from chromadb>=0.4.22->crewai_tools) (1.2.2.post1)\n",
            "Requirement already satisfied: chroma-hnswlib==0.7.6 in /usr/local/lib/python3.11/dist-packages (from chromadb>=0.4.22->crewai_tools) (0.7.6)\n",
            "Requirement already satisfied: fastapi>=0.95.2 in /usr/local/lib/python3.11/dist-packages (from chromadb>=0.4.22->crewai_tools) (0.115.7)\n",
            "Requirement already satisfied: uvicorn>=0.18.3 in /usr/local/lib/python3.11/dist-packages (from uvicorn[standard]>=0.18.3->chromadb>=0.4.22->crewai_tools) (0.34.0)\n",
            "Requirement already satisfied: numpy>=1.22.5 in /usr/local/lib/python3.11/dist-packages (from chromadb>=0.4.22->crewai_tools) (1.26.4)\n",
            "Requirement already satisfied: posthog>=2.4.0 in /usr/local/lib/python3.11/dist-packages (from chromadb>=0.4.22->crewai_tools) (3.9.3)\n",
            "Requirement already satisfied: typing_extensions>=4.5.0 in /usr/local/lib/python3.11/dist-packages (from chromadb>=0.4.22->crewai_tools) (4.12.2)\n",
            "Requirement already satisfied: onnxruntime>=1.14.1 in /usr/local/lib/python3.11/dist-packages (from chromadb>=0.4.22->crewai_tools) (1.20.1)\n",
            "Requirement already satisfied: opentelemetry-api>=1.2.0 in /usr/local/lib/python3.11/dist-packages (from chromadb>=0.4.22->crewai_tools) (1.29.0)\n",
            "Requirement already satisfied: opentelemetry-exporter-otlp-proto-grpc>=1.2.0 in /usr/local/lib/python3.11/dist-packages (from chromadb>=0.4.22->crewai_tools) (1.29.0)\n",
            "Requirement already satisfied: opentelemetry-instrumentation-fastapi>=0.41b0 in /usr/local/lib/python3.11/dist-packages (from chromadb>=0.4.22->crewai_tools) (0.50b0)\n",
            "Requirement already satisfied: opentelemetry-sdk>=1.2.0 in /usr/local/lib/python3.11/dist-packages (from chromadb>=0.4.22->crewai_tools) (1.29.0)\n",
            "Requirement already satisfied: tokenizers>=0.13.2 in /usr/local/lib/python3.11/dist-packages (from chromadb>=0.4.22->crewai_tools) (0.21.0)\n",
            "Requirement already satisfied: pypika>=0.48.9 in /usr/local/lib/python3.11/dist-packages (from chromadb>=0.4.22->crewai_tools) (0.48.9)\n",
            "Requirement already satisfied: tqdm>=4.65.0 in /usr/local/lib/python3.11/dist-packages (from chromadb>=0.4.22->crewai_tools) (4.67.1)\n",
            "Requirement already satisfied: overrides>=7.3.1 in /usr/local/lib/python3.11/dist-packages (from chromadb>=0.4.22->crewai_tools) (7.7.0)\n",
            "Requirement already satisfied: importlib-resources in /usr/local/lib/python3.11/dist-packages (from chromadb>=0.4.22->crewai_tools) (6.5.2)\n",
            "Requirement already satisfied: grpcio>=1.58.0 in /usr/local/lib/python3.11/dist-packages (from chromadb>=0.4.22->crewai_tools) (1.69.0)\n",
            "Requirement already satisfied: bcrypt>=4.0.1 in /usr/local/lib/python3.11/dist-packages (from chromadb>=0.4.22->crewai_tools) (4.2.1)\n",
            "Requirement already satisfied: typer>=0.9.0 in /usr/local/lib/python3.11/dist-packages (from chromadb>=0.4.22->crewai_tools) (0.15.1)\n",
            "Requirement already satisfied: kubernetes>=28.1.0 in /usr/local/lib/python3.11/dist-packages (from chromadb>=0.4.22->crewai_tools) (31.0.0)\n",
            "Requirement already satisfied: tenacity>=8.2.3 in /usr/local/lib/python3.11/dist-packages (from chromadb>=0.4.22->crewai_tools) (9.0.0)\n",
            "Requirement already satisfied: PyYAML>=6.0.0 in /usr/local/lib/python3.11/dist-packages (from chromadb>=0.4.22->crewai_tools) (6.0.2)\n",
            "Requirement already satisfied: mmh3>=4.0.1 in /usr/local/lib/python3.11/dist-packages (from chromadb>=0.4.22->crewai_tools) (5.0.1)\n",
            "Requirement already satisfied: orjson>=3.9.12 in /usr/local/lib/python3.11/dist-packages (from chromadb>=0.4.22->crewai_tools) (3.10.14)\n",
            "Requirement already satisfied: httpx>=0.27.0 in /usr/local/lib/python3.11/dist-packages (from chromadb>=0.4.22->crewai_tools) (0.27.2)\n",
            "Requirement already satisfied: rich>=10.11.0 in /usr/local/lib/python3.11/dist-packages (from chromadb>=0.4.22->crewai_tools) (13.9.4)\n",
            "Requirement already satisfied: appdirs>=1.4.4 in /usr/local/lib/python3.11/dist-packages (from crewai>=0.95.0->crewai_tools) (1.4.4)\n",
            "Requirement already satisfied: auth0-python>=4.7.1 in /usr/local/lib/python3.11/dist-packages (from crewai>=0.95.0->crewai_tools) (4.7.2)\n",
            "Requirement already satisfied: blinker>=1.9.0 in /usr/local/lib/python3.11/dist-packages (from crewai>=0.95.0->crewai_tools) (1.9.0)\n",
            "Requirement already satisfied: click>=8.1.7 in /usr/local/lib/python3.11/dist-packages (from crewai>=0.95.0->crewai_tools) (8.1.8)\n",
            "Requirement already satisfied: instructor>=1.3.3 in /usr/local/lib/python3.11/dist-packages (from crewai>=0.95.0->crewai_tools) (1.7.2)\n",
            "Requirement already satisfied: json-repair>=0.25.2 in /usr/local/lib/python3.11/dist-packages (from crewai>=0.95.0->crewai_tools) (0.35.0)\n",
            "Requirement already satisfied: jsonref>=1.1.0 in /usr/local/lib/python3.11/dist-packages (from crewai>=0.95.0->crewai_tools) (1.1.0)\n",
            "Requirement already satisfied: litellm==1.57.4 in /usr/local/lib/python3.11/dist-packages (from crewai>=0.95.0->crewai_tools) (1.57.4)\n",
            "Requirement already satisfied: openpyxl>=3.1.5 in /usr/local/lib/python3.11/dist-packages (from crewai>=0.95.0->crewai_tools) (3.1.5)\n",
            "Requirement already satisfied: opentelemetry-exporter-otlp-proto-http>=1.22.0 in /usr/local/lib/python3.11/dist-packages (from crewai>=0.95.0->crewai_tools) (1.29.0)\n",
            "Requirement already satisfied: pdfplumber>=0.11.4 in /usr/local/lib/python3.11/dist-packages (from crewai>=0.95.0->crewai_tools) (0.11.5)\n",
            "Requirement already satisfied: python-dotenv>=1.0.0 in /usr/local/lib/python3.11/dist-packages (from crewai>=0.95.0->crewai_tools) (1.0.1)\n",
            "Requirement already satisfied: pyvis>=0.3.2 in /usr/local/lib/python3.11/dist-packages (from crewai>=0.95.0->crewai_tools) (0.3.2)\n",
            "Requirement already satisfied: regex>=2024.9.11 in /usr/local/lib/python3.11/dist-packages (from crewai>=0.95.0->crewai_tools) (2024.11.6)\n",
            "Requirement already satisfied: tomli-w>=1.1.0 in /usr/local/lib/python3.11/dist-packages (from crewai>=0.95.0->crewai_tools) (1.2.0)\n",
            "Requirement already satisfied: tomli>=2.0.2 in /usr/local/lib/python3.11/dist-packages (from crewai>=0.95.0->crewai_tools) (2.2.1)\n",
            "Requirement already satisfied: uv>=0.4.25 in /usr/local/lib/python3.11/dist-packages (from crewai>=0.95.0->crewai_tools) (0.5.23)\n",
            "Requirement already satisfied: aiohttp in /usr/local/lib/python3.11/dist-packages (from litellm==1.57.4->crewai>=0.95.0->crewai_tools) (3.11.11)\n",
            "Requirement already satisfied: importlib-metadata>=6.8.0 in /usr/local/lib/python3.11/dist-packages (from litellm==1.57.4->crewai>=0.95.0->crewai_tools) (8.5.0)\n",
            "Requirement already satisfied: jinja2<4.0.0,>=3.1.2 in /usr/local/lib/python3.11/dist-packages (from litellm==1.57.4->crewai>=0.95.0->crewai_tools) (3.1.5)\n",
            "Requirement already satisfied: jsonschema<5.0.0,>=4.22.0 in /usr/local/lib/python3.11/dist-packages (from litellm==1.57.4->crewai>=0.95.0->crewai_tools) (4.23.0)\n",
            "Requirement already satisfied: tiktoken>=0.7.0 in /usr/local/lib/python3.11/dist-packages (from litellm==1.57.4->crewai>=0.95.0->crewai_tools) (0.8.0)\n",
            "Requirement already satisfied: urllib3>=1.26.0 in /usr/local/lib/python3.11/dist-packages (from docker>=7.1.0->crewai_tools) (2.3.0)\n",
            "Collecting alembic<2.0.0,>=1.13.1 (from embedchain>=0.1.114->crewai_tools)\n",
            "  Downloading alembic-1.14.1-py3-none-any.whl.metadata (7.4 kB)\n",
            "Collecting chromadb>=0.4.22 (from crewai_tools)\n",
            "  Downloading chromadb-0.5.23-py3-none-any.whl.metadata (6.8 kB)\n",
            "Collecting cohere<6.0,>=5.3 (from embedchain>=0.1.114->crewai_tools)\n",
            "  Downloading cohere-5.13.11-py3-none-any.whl.metadata (3.4 kB)\n",
            "Requirement already satisfied: google-cloud-aiplatform<2.0.0,>=1.26.1 in /usr/local/lib/python3.11/dist-packages (from embedchain>=0.1.114->crewai_tools) (1.74.0)\n",
            "Collecting gptcache<0.2.0,>=0.1.43 (from embedchain>=0.1.114->crewai_tools)\n",
            "  Downloading gptcache-0.1.44-py3-none-any.whl.metadata (24 kB)\n",
            "Requirement already satisfied: langchain<0.4.0,>=0.3.1 in /usr/local/lib/python3.11/dist-packages (from embedchain>=0.1.114->crewai_tools) (0.3.14)\n",
            "Collecting langchain-cohere<0.4.0,>=0.3.0 (from embedchain>=0.1.114->crewai_tools)\n",
            "  Downloading langchain_cohere-0.3.5-py3-none-any.whl.metadata (6.7 kB)\n",
            "Collecting langchain-community<0.4.0,>=0.3.1 (from embedchain>=0.1.114->crewai_tools)\n",
            "  Downloading langchain_community-0.3.15-py3-none-any.whl.metadata (2.9 kB)\n",
            "Collecting langchain-openai<0.3.0,>=0.2.1 (from embedchain>=0.1.114->crewai_tools)\n",
            "  Downloading langchain_openai-0.2.14-py3-none-any.whl.metadata (2.7 kB)\n",
            "Collecting langsmith<0.2.0,>=0.1.17 (from embedchain>=0.1.114->crewai_tools)\n",
            "  Downloading langsmith-0.1.147-py3-none-any.whl.metadata (14 kB)\n",
            "Collecting mem0ai<0.2.0,>=0.1.37 (from embedchain>=0.1.114->crewai_tools)\n",
            "  Downloading mem0ai-0.1.48-py3-none-any.whl.metadata (10 kB)\n",
            "Collecting pypdf<6.0.0,>=5.0.0 (from embedchain>=0.1.114->crewai_tools)\n",
            "  Downloading pypdf-5.1.0-py3-none-any.whl.metadata (7.2 kB)\n",
            "Collecting pysbd<0.4.0,>=0.3.4 (from embedchain>=0.1.114->crewai_tools)\n",
            "  Downloading pysbd-0.3.4-py3-none-any.whl.metadata (6.1 kB)\n",
            "Collecting schema<0.8.0,>=0.7.5 (from embedchain>=0.1.114->crewai_tools)\n",
            "  Downloading schema-0.7.7-py2.py3-none-any.whl.metadata (34 kB)\n",
            "Requirement already satisfied: sqlalchemy<3.0.0,>=2.0.27 in /usr/local/lib/python3.11/dist-packages (from embedchain>=0.1.114->crewai_tools) (2.0.37)\n",
            "Collecting tiktoken>=0.7.0 (from litellm==1.57.4->crewai>=0.95.0->crewai_tools)\n",
            "  Downloading tiktoken-0.7.0-cp311-cp311-manylinux_2_17_x86_64.manylinux2014_x86_64.whl.metadata (6.6 kB)\n",
            "Collecting tokenizers (from litellm==1.57.4->crewai>=0.95.0->crewai_tools)\n",
            "  Downloading tokenizers-0.20.3-cp311-cp311-manylinux_2_17_x86_64.manylinux2014_x86_64.whl.metadata (6.7 kB)\n",
            "Collecting deprecation (from lancedb>=0.5.4->crewai_tools)\n",
            "  Downloading deprecation-2.1.0-py2.py3-none-any.whl.metadata (4.6 kB)\n",
            "Collecting pylance==0.22.0 (from lancedb>=0.5.4->crewai_tools)\n",
            "  Downloading pylance-0.22.0-cp39-abi3-manylinux_2_28_x86_64.whl.metadata (7.2 kB)\n",
            "Requirement already satisfied: packaging in /usr/local/lib/python3.11/dist-packages (from lancedb>=0.5.4->crewai_tools) (24.2)\n",
            "Requirement already satisfied: pyarrow>=14 in /usr/local/lib/python3.11/dist-packages (from pylance==0.22.0->lancedb>=0.5.4->crewai_tools) (17.0.0)\n",
            "Requirement already satisfied: anyio<5,>=3.5.0 in /usr/local/lib/python3.11/dist-packages (from openai>=1.12.0->crewai_tools) (3.7.1)\n",
            "Requirement already satisfied: distro<2,>=1.7.0 in /usr/local/lib/python3.11/dist-packages (from openai>=1.12.0->crewai_tools) (1.9.0)\n",
            "Requirement already satisfied: jiter<1,>=0.4.0 in /usr/local/lib/python3.11/dist-packages (from openai>=1.12.0->crewai_tools) (0.8.2)\n",
            "Requirement already satisfied: sniffio in /usr/local/lib/python3.11/dist-packages (from openai>=1.12.0->crewai_tools) (1.3.1)\n",
            "Requirement already satisfied: pandas>=2.0.0 in /usr/local/lib/python3.11/dist-packages (from patronus>=0.0.16->crewai_tools) (2.2.2)\n",
            "Collecting pydantic-settings<3.0.0,>=2.4.0 (from patronus>=0.0.16->crewai_tools)\n",
            "  Downloading pydantic_settings-2.7.1-py3-none-any.whl.metadata (3.5 kB)\n",
            "Requirement already satisfied: annotated-types>=0.6.0 in /usr/local/lib/python3.11/dist-packages (from pydantic>=2.6.1->crewai_tools) (0.7.0)\n",
            "Requirement already satisfied: pydantic-core==2.27.2 in /usr/local/lib/python3.11/dist-packages (from pydantic>=2.6.1->crewai_tools) (2.27.2)\n",
            "Collecting nodeenv>=1.6.0 (from pyright>=1.1.350->crewai_tools)\n",
            "  Downloading nodeenv-1.9.1-py2.py3-none-any.whl.metadata (21 kB)\n",
            "Requirement already satisfied: charset-normalizer<4,>=2 in /usr/local/lib/python3.11/dist-packages (from requests>=2.31.0->crewai_tools) (3.4.1)\n",
            "Requirement already satisfied: idna<4,>=2.5 in /usr/local/lib/python3.11/dist-packages (from requests>=2.31.0->crewai_tools) (3.10)\n",
            "Requirement already satisfied: certifi>=2017.4.17 in /usr/local/lib/python3.11/dist-packages (from requests>=2.31.0->crewai_tools) (2024.12.14)\n",
            "Collecting trio~=0.17 (from selenium>=4.18.1->crewai_tools)\n",
            "  Downloading trio-0.28.0-py3-none-any.whl.metadata (8.5 kB)\n",
            "Collecting trio-websocket~=0.9 (from selenium>=4.18.1->crewai_tools)\n",
            "  Downloading trio_websocket-0.11.1-py3-none-any.whl.metadata (4.7 kB)\n",
            "Requirement already satisfied: websocket-client~=1.8 in /usr/local/lib/python3.11/dist-packages (from selenium>=4.18.1->crewai_tools) (1.8.0)\n",
            "Collecting snowflake-core==1.0.2 (from snowflake>=1.0.2->crewai_tools)\n",
            "  Downloading snowflake_core-1.0.2-py3-none-any.whl.metadata (1.8 kB)\n",
            "Collecting snowflake-legacy (from snowflake>=1.0.2->crewai_tools)\n",
            "  Downloading snowflake_legacy-1.0.0-py3-none-any.whl.metadata (2.5 kB)\n",
            "Requirement already satisfied: atpublic>=4 in /usr/local/lib/python3.11/dist-packages (from snowflake-core==1.0.2->snowflake>=1.0.2->crewai_tools) (4.1.0)\n",
            "Requirement already satisfied: python-dateutil>=2.8.2 in /usr/local/lib/python3.11/dist-packages (from snowflake-core==1.0.2->snowflake>=1.0.2->crewai_tools) (2.8.2)\n",
            "Collecting snowflake-connector-python (from snowflake-core==1.0.2->snowflake>=1.0.2->crewai_tools)\n",
            "  Downloading snowflake_connector_python-3.12.4-cp311-cp311-manylinux_2_17_x86_64.manylinux2014_x86_64.whl.metadata (65 kB)\n",
            "\u001b[2K     \u001b[90m━━━━━━━━━━━━━━━━━━━━━━━━━━━━━━━━━━━━━━━━\u001b[0m \u001b[32m65.9/65.9 kB\u001b[0m \u001b[31m3.9 MB/s\u001b[0m eta \u001b[36m0:00:00\u001b[0m\n",
            "\u001b[?25hCollecting ijson (from spider-client>=0.1.25->crewai_tools)\n",
            "  Downloading ijson-3.3.0-cp311-cp311-manylinux_2_17_x86_64.manylinux2014_x86_64.whl.metadata (21 kB)\n",
            "Collecting validators==0.34.0 (from weaviate-client>=4.9.6->crewai_tools)\n",
            "  Downloading validators-0.34.0-py3-none-any.whl.metadata (3.8 kB)\n",
            "Collecting authlib<1.3.2,>=1.2.1 (from weaviate-client>=4.9.6->crewai_tools)\n",
            "  Downloading Authlib-1.3.1-py2.py3-none-any.whl.metadata (3.8 kB)\n",
            "Collecting grpcio-tools<2.0.0,>=1.66.2 (from weaviate-client>=4.9.6->crewai_tools)\n",
            "  Downloading grpcio_tools-1.69.0-cp311-cp311-manylinux_2_17_x86_64.manylinux2014_x86_64.whl.metadata (5.3 kB)\n",
            "Collecting grpcio-health-checking<2.0.0,>=1.66.2 (from weaviate-client>=4.9.6->crewai_tools)\n",
            "  Downloading grpcio_health_checking-1.69.0-py3-none-any.whl.metadata (1.1 kB)\n",
            "Requirement already satisfied: aiohappyeyeballs>=2.3.0 in /usr/local/lib/python3.11/dist-packages (from aiohttp->litellm==1.57.4->crewai>=0.95.0->crewai_tools) (2.4.4)\n",
            "Requirement already satisfied: aiosignal>=1.1.2 in /usr/local/lib/python3.11/dist-packages (from aiohttp->litellm==1.57.4->crewai>=0.95.0->crewai_tools) (1.3.2)\n",
            "Requirement already satisfied: attrs>=17.3.0 in /usr/local/lib/python3.11/dist-packages (from aiohttp->litellm==1.57.4->crewai>=0.95.0->crewai_tools) (24.3.0)\n",
            "Requirement already satisfied: frozenlist>=1.1.1 in /usr/local/lib/python3.11/dist-packages (from aiohttp->litellm==1.57.4->crewai>=0.95.0->crewai_tools) (1.5.0)\n",
            "Requirement already satisfied: multidict<7.0,>=4.5 in /usr/local/lib/python3.11/dist-packages (from aiohttp->litellm==1.57.4->crewai>=0.95.0->crewai_tools) (6.1.0)\n",
            "Requirement already satisfied: propcache>=0.2.0 in /usr/local/lib/python3.11/dist-packages (from aiohttp->litellm==1.57.4->crewai>=0.95.0->crewai_tools) (0.2.1)\n",
            "Requirement already satisfied: yarl<2.0,>=1.17.0 in /usr/local/lib/python3.11/dist-packages (from aiohttp->litellm==1.57.4->crewai>=0.95.0->crewai_tools) (1.18.3)\n",
            "Collecting Mako (from alembic<2.0.0,>=1.13.1->embedchain>=0.1.114->crewai_tools)\n",
            "  Downloading Mako-1.3.8-py3-none-any.whl.metadata (2.9 kB)\n",
            "Requirement already satisfied: cryptography<44.0.0,>=43.0.1 in /usr/local/lib/python3.11/dist-packages (from auth0-python>=4.7.1->crewai>=0.95.0->crewai_tools) (43.0.3)\n",
            "Requirement already satisfied: pyjwt<3.0.0,>=2.8.0 in /usr/local/lib/python3.11/dist-packages (from auth0-python>=4.7.1->crewai>=0.95.0->crewai_tools) (2.10.1)\n",
            "Requirement already satisfied: pyproject_hooks in /usr/local/lib/python3.11/dist-packages (from build>=1.0.3->chromadb>=0.4.22->crewai_tools) (1.2.0)\n",
            "Collecting fastavro<2.0.0,>=1.9.4 (from cohere<6.0,>=5.3->embedchain>=0.1.114->crewai_tools)\n",
            "  Downloading fastavro-1.10.0-cp311-cp311-manylinux_2_17_x86_64.manylinux2014_x86_64.whl.metadata (5.5 kB)\n",
            "Collecting httpx-sse==0.4.0 (from cohere<6.0,>=5.3->embedchain>=0.1.114->crewai_tools)\n",
            "  Downloading httpx_sse-0.4.0-py3-none-any.whl.metadata (9.0 kB)\n",
            "Collecting types-requests<3.0.0,>=2.0.0 (from cohere<6.0,>=5.3->embedchain>=0.1.114->crewai_tools)\n",
            "  Downloading types_requests-2.32.0.20241016-py3-none-any.whl.metadata (1.9 kB)\n",
            "Requirement already satisfied: starlette<0.46.0,>=0.40.0 in /usr/local/lib/python3.11/dist-packages (from fastapi>=0.95.2->chromadb>=0.4.22->crewai_tools) (0.45.2)\n",
            "Requirement already satisfied: google-api-core!=2.0.*,!=2.1.*,!=2.2.*,!=2.3.*,!=2.4.*,!=2.5.*,!=2.6.*,!=2.7.*,<3.0.0dev,>=1.34.1 in /usr/local/lib/python3.11/dist-packages (from google-api-core[grpc]!=2.0.*,!=2.1.*,!=2.2.*,!=2.3.*,!=2.4.*,!=2.5.*,!=2.6.*,!=2.7.*,<3.0.0dev,>=1.34.1->google-cloud-aiplatform<2.0.0,>=1.26.1->embedchain>=0.1.114->crewai_tools) (2.19.2)\n",
            "Requirement already satisfied: google-auth<3.0.0dev,>=2.14.1 in /usr/local/lib/python3.11/dist-packages (from google-cloud-aiplatform<2.0.0,>=1.26.1->embedchain>=0.1.114->crewai_tools) (2.27.0)\n",
            "Requirement already satisfied: proto-plus<2.0.0dev,>=1.22.3 in /usr/local/lib/python3.11/dist-packages (from google-cloud-aiplatform<2.0.0,>=1.26.1->embedchain>=0.1.114->crewai_tools) (1.25.0)\n",
            "Requirement already satisfied: protobuf!=4.21.0,!=4.21.1,!=4.21.2,!=4.21.3,!=4.21.4,!=4.21.5,<6.0.0dev,>=3.20.2 in /usr/local/lib/python3.11/dist-packages (from google-cloud-aiplatform<2.0.0,>=1.26.1->embedchain>=0.1.114->crewai_tools) (5.29.3)\n",
            "Requirement already satisfied: google-cloud-storage<3.0.0dev,>=1.32.0 in /usr/local/lib/python3.11/dist-packages (from google-cloud-aiplatform<2.0.0,>=1.26.1->embedchain>=0.1.114->crewai_tools) (2.19.0)\n",
            "Requirement already satisfied: google-cloud-bigquery!=3.20.0,<4.0.0dev,>=1.15.0 in /usr/local/lib/python3.11/dist-packages (from google-cloud-aiplatform<2.0.0,>=1.26.1->embedchain>=0.1.114->crewai_tools) (3.25.0)\n",
            "Requirement already satisfied: google-cloud-resource-manager<3.0.0dev,>=1.3.3 in /usr/local/lib/python3.11/dist-packages (from google-cloud-aiplatform<2.0.0,>=1.26.1->embedchain>=0.1.114->crewai_tools) (1.14.0)\n",
            "Requirement already satisfied: shapely<3.0.0dev in /usr/local/lib/python3.11/dist-packages (from google-cloud-aiplatform<2.0.0,>=1.26.1->embedchain>=0.1.114->crewai_tools) (2.0.6)\n",
            "Requirement already satisfied: docstring-parser<1 in /usr/local/lib/python3.11/dist-packages (from google-cloud-aiplatform<2.0.0,>=1.26.1->embedchain>=0.1.114->crewai_tools) (0.16)\n",
            "Requirement already satisfied: cachetools in /usr/local/lib/python3.11/dist-packages (from gptcache<0.2.0,>=0.1.43->embedchain>=0.1.114->crewai_tools) (5.5.0)\n",
            "Requirement already satisfied: setuptools in /usr/local/lib/python3.11/dist-packages (from grpcio-tools<2.0.0,>=1.66.2->weaviate-client>=4.9.6->crewai_tools) (75.1.0)\n",
            "Requirement already satisfied: httpcore==1.* in /usr/local/lib/python3.11/dist-packages (from httpx>=0.27.0->chromadb>=0.4.22->crewai_tools) (1.0.7)\n",
            "Requirement already satisfied: h11<0.15,>=0.13 in /usr/local/lib/python3.11/dist-packages (from httpcore==1.*->httpx>=0.27.0->chromadb>=0.4.22->crewai_tools) (0.14.0)\n",
            "Requirement already satisfied: six>=1.9.0 in /usr/local/lib/python3.11/dist-packages (from kubernetes>=28.1.0->chromadb>=0.4.22->crewai_tools) (1.17.0)\n",
            "Requirement already satisfied: requests-oauthlib in /usr/local/lib/python3.11/dist-packages (from kubernetes>=28.1.0->chromadb>=0.4.22->crewai_tools) (1.3.1)\n",
            "Requirement already satisfied: oauthlib>=3.2.2 in /usr/local/lib/python3.11/dist-packages (from kubernetes>=28.1.0->chromadb>=0.4.22->crewai_tools) (3.2.2)\n",
            "Requirement already satisfied: durationpy>=0.7 in /usr/local/lib/python3.11/dist-packages (from kubernetes>=28.1.0->chromadb>=0.4.22->crewai_tools) (0.9)\n",
            "Requirement already satisfied: langchain-core<0.4.0,>=0.3.29 in /usr/local/lib/python3.11/dist-packages (from langchain<0.4.0,>=0.3.1->embedchain>=0.1.114->crewai_tools) (0.3.29)\n",
            "Requirement already satisfied: langchain-text-splitters<0.4.0,>=0.3.3 in /usr/local/lib/python3.11/dist-packages (from langchain<0.4.0,>=0.3.1->embedchain>=0.1.114->crewai_tools) (0.3.5)\n",
            "Collecting langchain-experimental<0.4.0,>=0.3.0 (from langchain-cohere<0.4.0,>=0.3.0->embedchain>=0.1.114->crewai_tools)\n",
            "  Downloading langchain_experimental-0.3.4-py3-none-any.whl.metadata (1.7 kB)\n",
            "Requirement already satisfied: tabulate<0.10.0,>=0.9.0 in /usr/local/lib/python3.11/dist-packages (from langchain-cohere<0.4.0,>=0.3.0->embedchain>=0.1.114->crewai_tools) (0.9.0)\n",
            "Collecting dataclasses-json<0.7,>=0.5.7 (from langchain-community<0.4.0,>=0.3.1->embedchain>=0.1.114->crewai_tools)\n",
            "  Downloading dataclasses_json-0.6.7-py3-none-any.whl.metadata (25 kB)\n",
            "Collecting langchain<0.4.0,>=0.3.1 (from embedchain>=0.1.114->crewai_tools)\n",
            "  Downloading langchain-0.3.15-py3-none-any.whl.metadata (7.1 kB)\n",
            "Collecting langchain-core<0.4.0,>=0.3.29 (from langchain<0.4.0,>=0.3.1->embedchain>=0.1.114->crewai_tools)\n",
            "  Downloading langchain_core-0.3.31-py3-none-any.whl.metadata (6.3 kB)\n",
            "Requirement already satisfied: requests-toolbelt<2.0.0,>=1.0.0 in /usr/local/lib/python3.11/dist-packages (from langsmith<0.2.0,>=0.1.17->embedchain>=0.1.114->crewai_tools) (1.0.0)\n",
            "Requirement already satisfied: pytz<2025.0,>=2024.1 in /usr/local/lib/python3.11/dist-packages (from mem0ai<0.2.0,>=0.1.37->embedchain>=0.1.114->crewai_tools) (2024.2)\n",
            "Collecting qdrant-client<2.0.0,>=1.9.1 (from mem0ai<0.2.0,>=0.1.37->embedchain>=0.1.114->crewai_tools)\n",
            "  Downloading qdrant_client-1.13.2-py3-none-any.whl.metadata (10 kB)\n",
            "Requirement already satisfied: coloredlogs in /usr/local/lib/python3.11/dist-packages (from onnxruntime>=1.14.1->chromadb>=0.4.22->crewai_tools) (15.0.1)\n",
            "Requirement already satisfied: flatbuffers in /usr/local/lib/python3.11/dist-packages (from onnxruntime>=1.14.1->chromadb>=0.4.22->crewai_tools) (24.12.23)\n",
            "Requirement already satisfied: sympy in /usr/local/lib/python3.11/dist-packages (from onnxruntime>=1.14.1->chromadb>=0.4.22->crewai_tools) (1.13.1)\n",
            "Requirement already satisfied: et-xmlfile in /usr/local/lib/python3.11/dist-packages (from openpyxl>=3.1.5->crewai>=0.95.0->crewai_tools) (2.0.0)\n",
            "Requirement already satisfied: deprecated>=1.2.6 in /usr/local/lib/python3.11/dist-packages (from opentelemetry-api>=1.2.0->chromadb>=0.4.22->crewai_tools) (1.2.15)\n",
            "Requirement already satisfied: googleapis-common-protos~=1.52 in /usr/local/lib/python3.11/dist-packages (from opentelemetry-exporter-otlp-proto-grpc>=1.2.0->chromadb>=0.4.22->crewai_tools) (1.66.0)\n",
            "Requirement already satisfied: opentelemetry-exporter-otlp-proto-common==1.29.0 in /usr/local/lib/python3.11/dist-packages (from opentelemetry-exporter-otlp-proto-grpc>=1.2.0->chromadb>=0.4.22->crewai_tools) (1.29.0)\n",
            "Requirement already satisfied: opentelemetry-proto==1.29.0 in /usr/local/lib/python3.11/dist-packages (from opentelemetry-exporter-otlp-proto-grpc>=1.2.0->chromadb>=0.4.22->crewai_tools) (1.29.0)\n",
            "Requirement already satisfied: opentelemetry-instrumentation-asgi==0.50b0 in /usr/local/lib/python3.11/dist-packages (from opentelemetry-instrumentation-fastapi>=0.41b0->chromadb>=0.4.22->crewai_tools) (0.50b0)\n",
            "Requirement already satisfied: opentelemetry-instrumentation==0.50b0 in /usr/local/lib/python3.11/dist-packages (from opentelemetry-instrumentation-fastapi>=0.41b0->chromadb>=0.4.22->crewai_tools) (0.50b0)\n",
            "Requirement already satisfied: opentelemetry-semantic-conventions==0.50b0 in /usr/local/lib/python3.11/dist-packages (from opentelemetry-instrumentation-fastapi>=0.41b0->chromadb>=0.4.22->crewai_tools) (0.50b0)\n",
            "Requirement already satisfied: opentelemetry-util-http==0.50b0 in /usr/local/lib/python3.11/dist-packages (from opentelemetry-instrumentation-fastapi>=0.41b0->chromadb>=0.4.22->crewai_tools) (0.50b0)\n",
            "Requirement already satisfied: wrapt<2.0.0,>=1.0.0 in /usr/local/lib/python3.11/dist-packages (from opentelemetry-instrumentation==0.50b0->opentelemetry-instrumentation-fastapi>=0.41b0->chromadb>=0.4.22->crewai_tools) (1.17.0)\n",
            "Requirement already satisfied: asgiref~=3.0 in /usr/local/lib/python3.11/dist-packages (from opentelemetry-instrumentation-asgi==0.50b0->opentelemetry-instrumentation-fastapi>=0.41b0->chromadb>=0.4.22->crewai_tools) (3.8.1)\n",
            "Requirement already satisfied: tzdata>=2022.7 in /usr/local/lib/python3.11/dist-packages (from pandas>=2.0.0->patronus>=0.0.16->crewai_tools) (2024.2)\n",
            "Requirement already satisfied: pdfminer.six==20231228 in /usr/local/lib/python3.11/dist-packages (from pdfplumber>=0.11.4->crewai>=0.95.0->crewai_tools) (20231228)\n",
            "Requirement already satisfied: Pillow>=9.1 in /usr/local/lib/python3.11/dist-packages (from pdfplumber>=0.11.4->crewai>=0.95.0->crewai_tools) (11.1.0)\n",
            "Requirement already satisfied: pypdfium2>=4.18.0 in /usr/local/lib/python3.11/dist-packages (from pdfplumber>=0.11.4->crewai>=0.95.0->crewai_tools) (4.30.1)\n",
            "Requirement already satisfied: monotonic>=1.5 in /usr/local/lib/python3.11/dist-packages (from posthog>=2.4.0->chromadb>=0.4.22->crewai_tools) (1.6)\n",
            "Requirement already satisfied: backoff>=1.10.0 in /usr/local/lib/python3.11/dist-packages (from posthog>=2.4.0->chromadb>=0.4.22->crewai_tools) (2.2.1)\n",
            "Requirement already satisfied: ipython>=5.3.0 in /usr/local/lib/python3.11/dist-packages (from pyvis>=0.3.2->crewai>=0.95.0->crewai_tools) (7.34.0)\n",
            "Requirement already satisfied: jsonpickle>=1.4.1 in /usr/local/lib/python3.11/dist-packages (from pyvis>=0.3.2->crewai>=0.95.0->crewai_tools) (4.0.1)\n",
            "Requirement already satisfied: networkx>=1.11 in /usr/local/lib/python3.11/dist-packages (from pyvis>=0.3.2->crewai>=0.95.0->crewai_tools) (3.4.2)\n",
            "Requirement already satisfied: markdown-it-py>=2.2.0 in /usr/local/lib/python3.11/dist-packages (from rich>=10.11.0->chromadb>=0.4.22->crewai_tools) (3.0.0)\n",
            "Requirement already satisfied: pygments<3.0.0,>=2.13.0 in /usr/local/lib/python3.11/dist-packages (from rich>=10.11.0->chromadb>=0.4.22->crewai_tools) (2.18.0)\n",
            "Requirement already satisfied: greenlet!=0.4.17 in /usr/local/lib/python3.11/dist-packages (from sqlalchemy<3.0.0,>=2.0.27->embedchain>=0.1.114->crewai_tools) (3.1.1)\n",
            "Requirement already satisfied: huggingface-hub<1.0,>=0.16.4 in /usr/local/lib/python3.11/dist-packages (from tokenizers->litellm==1.57.4->crewai>=0.95.0->crewai_tools) (0.27.1)\n",
            "Collecting sortedcontainers (from trio~=0.17->selenium>=4.18.1->crewai_tools)\n",
            "  Downloading sortedcontainers-2.4.0-py2.py3-none-any.whl.metadata (10 kB)\n",
            "Collecting outcome (from trio~=0.17->selenium>=4.18.1->crewai_tools)\n",
            "  Downloading outcome-1.3.0.post0-py2.py3-none-any.whl.metadata (2.6 kB)\n",
            "Collecting wsproto>=0.14 (from trio-websocket~=0.9->selenium>=4.18.1->crewai_tools)\n",
            "  Downloading wsproto-1.2.0-py3-none-any.whl.metadata (5.6 kB)\n",
            "Requirement already satisfied: shellingham>=1.3.0 in /usr/local/lib/python3.11/dist-packages (from typer>=0.9.0->chromadb>=0.4.22->crewai_tools) (1.5.4)\n",
            "Requirement already satisfied: pysocks!=1.5.7,<2.0,>=1.5.6 in /usr/local/lib/python3.11/dist-packages (from urllib3[socks]<3,>=1.26->selenium>=4.18.1->crewai_tools) (1.7.1)\n",
            "Requirement already satisfied: httptools>=0.6.3 in /usr/local/lib/python3.11/dist-packages (from uvicorn[standard]>=0.18.3->chromadb>=0.4.22->crewai_tools) (0.6.4)\n",
            "Requirement already satisfied: uvloop!=0.15.0,!=0.15.1,>=0.14.0 in /usr/local/lib/python3.11/dist-packages (from uvicorn[standard]>=0.18.3->chromadb>=0.4.22->crewai_tools) (0.21.0)\n",
            "Requirement already satisfied: watchfiles>=0.13 in /usr/local/lib/python3.11/dist-packages (from uvicorn[standard]>=0.18.3->chromadb>=0.4.22->crewai_tools) (1.0.4)\n",
            "Requirement already satisfied: websockets>=10.4 in /usr/local/lib/python3.11/dist-packages (from uvicorn[standard]>=0.18.3->chromadb>=0.4.22->crewai_tools) (14.1)\n",
            "Requirement already satisfied: cffi>=1.12 in /usr/local/lib/python3.11/dist-packages (from cryptography<44.0.0,>=43.0.1->auth0-python>=4.7.1->crewai>=0.95.0->crewai_tools) (1.17.1)\n",
            "Collecting marshmallow<4.0.0,>=3.18.0 (from dataclasses-json<0.7,>=0.5.7->langchain-community<0.4.0,>=0.3.1->embedchain>=0.1.114->crewai_tools)\n",
            "  Downloading marshmallow-3.26.0-py3-none-any.whl.metadata (7.3 kB)\n",
            "Collecting typing-inspect<1,>=0.4.0 (from dataclasses-json<0.7,>=0.5.7->langchain-community<0.4.0,>=0.3.1->embedchain>=0.1.114->crewai_tools)\n",
            "  Downloading typing_inspect-0.9.0-py3-none-any.whl.metadata (1.5 kB)\n",
            "Requirement already satisfied: grpcio-status<2.0.dev0,>=1.33.2 in /usr/local/lib/python3.11/dist-packages (from google-api-core[grpc]!=2.0.*,!=2.1.*,!=2.2.*,!=2.3.*,!=2.4.*,!=2.5.*,!=2.6.*,!=2.7.*,<3.0.0dev,>=1.34.1->google-cloud-aiplatform<2.0.0,>=1.26.1->embedchain>=0.1.114->crewai_tools) (1.62.3)\n",
            "Requirement already satisfied: pyasn1-modules>=0.2.1 in /usr/local/lib/python3.11/dist-packages (from google-auth<3.0.0dev,>=2.14.1->google-cloud-aiplatform<2.0.0,>=1.26.1->embedchain>=0.1.114->crewai_tools) (0.4.1)\n",
            "Requirement already satisfied: rsa<5,>=3.1.4 in /usr/local/lib/python3.11/dist-packages (from google-auth<3.0.0dev,>=2.14.1->google-cloud-aiplatform<2.0.0,>=1.26.1->embedchain>=0.1.114->crewai_tools) (4.9)\n",
            "Requirement already satisfied: google-cloud-core<3.0.0dev,>=1.6.0 in /usr/local/lib/python3.11/dist-packages (from google-cloud-bigquery!=3.20.0,<4.0.0dev,>=1.15.0->google-cloud-aiplatform<2.0.0,>=1.26.1->embedchain>=0.1.114->crewai_tools) (2.4.1)\n",
            "Requirement already satisfied: google-resumable-media<3.0dev,>=0.6.0 in /usr/local/lib/python3.11/dist-packages (from google-cloud-bigquery!=3.20.0,<4.0.0dev,>=1.15.0->google-cloud-aiplatform<2.0.0,>=1.26.1->embedchain>=0.1.114->crewai_tools) (2.7.2)\n",
            "Requirement already satisfied: grpc-google-iam-v1<1.0.0dev,>=0.12.4 in /usr/local/lib/python3.11/dist-packages (from google-cloud-resource-manager<3.0.0dev,>=1.3.3->google-cloud-aiplatform<2.0.0,>=1.26.1->embedchain>=0.1.114->crewai_tools) (0.14.0)\n",
            "Requirement already satisfied: google-crc32c<2.0dev,>=1.0 in /usr/local/lib/python3.11/dist-packages (from google-cloud-storage<3.0.0dev,>=1.32.0->google-cloud-aiplatform<2.0.0,>=1.26.1->embedchain>=0.1.114->crewai_tools) (1.6.0)\n",
            "Requirement already satisfied: filelock in /usr/local/lib/python3.11/dist-packages (from huggingface-hub<1.0,>=0.16.4->tokenizers->litellm==1.57.4->crewai>=0.95.0->crewai_tools) (3.16.1)\n",
            "Requirement already satisfied: fsspec>=2023.5.0 in /usr/local/lib/python3.11/dist-packages (from huggingface-hub<1.0,>=0.16.4->tokenizers->litellm==1.57.4->crewai>=0.95.0->crewai_tools) (2024.10.0)\n",
            "Requirement already satisfied: zipp>=3.20 in /usr/local/lib/python3.11/dist-packages (from importlib-metadata>=6.8.0->litellm==1.57.4->crewai>=0.95.0->crewai_tools) (3.21.0)\n",
            "Requirement already satisfied: jedi>=0.16 in /usr/local/lib/python3.11/dist-packages (from ipython>=5.3.0->pyvis>=0.3.2->crewai>=0.95.0->crewai_tools) (0.19.2)\n",
            "Requirement already satisfied: decorator in /usr/local/lib/python3.11/dist-packages (from ipython>=5.3.0->pyvis>=0.3.2->crewai>=0.95.0->crewai_tools) (4.4.2)\n",
            "Requirement already satisfied: pickleshare in /usr/local/lib/python3.11/dist-packages (from ipython>=5.3.0->pyvis>=0.3.2->crewai>=0.95.0->crewai_tools) (0.7.5)\n",
            "Requirement already satisfied: traitlets>=4.2 in /usr/local/lib/python3.11/dist-packages (from ipython>=5.3.0->pyvis>=0.3.2->crewai>=0.95.0->crewai_tools) (5.7.1)\n",
            "Requirement already satisfied: prompt-toolkit!=3.0.0,!=3.0.1,<3.1.0,>=2.0.0 in /usr/local/lib/python3.11/dist-packages (from ipython>=5.3.0->pyvis>=0.3.2->crewai>=0.95.0->crewai_tools) (3.0.48)\n",
            "Requirement already satisfied: backcall in /usr/local/lib/python3.11/dist-packages (from ipython>=5.3.0->pyvis>=0.3.2->crewai>=0.95.0->crewai_tools) (0.2.0)\n",
            "Requirement already satisfied: matplotlib-inline in /usr/local/lib/python3.11/dist-packages (from ipython>=5.3.0->pyvis>=0.3.2->crewai>=0.95.0->crewai_tools) (0.1.7)\n",
            "Requirement already satisfied: pexpect>4.3 in /usr/local/lib/python3.11/dist-packages (from ipython>=5.3.0->pyvis>=0.3.2->crewai>=0.95.0->crewai_tools) (4.9.0)\n",
            "Requirement already satisfied: MarkupSafe>=2.0 in /usr/local/lib/python3.11/dist-packages (from jinja2<4.0.0,>=3.1.2->litellm==1.57.4->crewai>=0.95.0->crewai_tools) (3.0.2)\n",
            "Requirement already satisfied: jsonschema-specifications>=2023.03.6 in /usr/local/lib/python3.11/dist-packages (from jsonschema<5.0.0,>=4.22.0->litellm==1.57.4->crewai>=0.95.0->crewai_tools) (2024.10.1)\n",
            "Requirement already satisfied: referencing>=0.28.4 in /usr/local/lib/python3.11/dist-packages (from jsonschema<5.0.0,>=4.22.0->litellm==1.57.4->crewai>=0.95.0->crewai_tools) (0.35.1)\n",
            "Requirement already satisfied: rpds-py>=0.7.1 in /usr/local/lib/python3.11/dist-packages (from jsonschema<5.0.0,>=4.22.0->litellm==1.57.4->crewai>=0.95.0->crewai_tools) (0.22.3)\n",
            "Requirement already satisfied: jsonpatch<2.0,>=1.33 in /usr/local/lib/python3.11/dist-packages (from langchain-core<0.4.0,>=0.3.29->langchain<0.4.0,>=0.3.1->embedchain>=0.1.114->crewai_tools) (1.33)\n",
            "Requirement already satisfied: mdurl~=0.1 in /usr/local/lib/python3.11/dist-packages (from markdown-it-py>=2.2.0->rich>=10.11.0->chromadb>=0.4.22->crewai_tools) (0.1.2)\n",
            "Collecting portalocker<3.0.0,>=2.7.0 (from qdrant-client<2.0.0,>=1.9.1->mem0ai<0.2.0,>=0.1.37->embedchain>=0.1.114->crewai_tools)\n",
            "  Downloading portalocker-2.10.1-py3-none-any.whl.metadata (8.5 kB)\n",
            "Requirement already satisfied: humanfriendly>=9.1 in /usr/local/lib/python3.11/dist-packages (from coloredlogs->onnxruntime>=1.14.1->chromadb>=0.4.22->crewai_tools) (10.0)\n",
            "Collecting asn1crypto<2.0.0,>0.24.0 (from snowflake-connector-python->snowflake-core==1.0.2->snowflake>=1.0.2->crewai_tools)\n",
            "  Downloading asn1crypto-1.5.1-py2.py3-none-any.whl.metadata (13 kB)\n",
            "Requirement already satisfied: pyOpenSSL<25.0.0,>=22.0.0 in /usr/local/lib/python3.11/dist-packages (from snowflake-connector-python->snowflake-core==1.0.2->snowflake>=1.0.2->crewai_tools) (24.2.1)\n",
            "Requirement already satisfied: platformdirs<5.0.0,>=2.6.0 in /usr/local/lib/python3.11/dist-packages (from snowflake-connector-python->snowflake-core==1.0.2->snowflake>=1.0.2->crewai_tools) (4.3.6)\n",
            "Collecting tomlkit (from snowflake-connector-python->snowflake-core==1.0.2->snowflake>=1.0.2->crewai_tools)\n",
            "  Downloading tomlkit-0.13.2-py3-none-any.whl.metadata (2.7 kB)\n",
            "Requirement already satisfied: mpmath<1.4,>=1.1.0 in /usr/local/lib/python3.11/dist-packages (from sympy->onnxruntime>=1.14.1->chromadb>=0.4.22->crewai_tools) (1.3.0)\n",
            "Requirement already satisfied: pycparser in /usr/local/lib/python3.11/dist-packages (from cffi>=1.12->cryptography<44.0.0,>=43.0.1->auth0-python>=4.7.1->crewai>=0.95.0->crewai_tools) (2.22)\n",
            "Collecting h2<5,>=3 (from httpx[http2]>=0.20.0->qdrant-client<2.0.0,>=1.9.1->mem0ai<0.2.0,>=0.1.37->embedchain>=0.1.114->crewai_tools)\n",
            "  Downloading h2-4.1.0-py3-none-any.whl.metadata (3.6 kB)\n",
            "Requirement already satisfied: parso<0.9.0,>=0.8.4 in /usr/local/lib/python3.11/dist-packages (from jedi>=0.16->ipython>=5.3.0->pyvis>=0.3.2->crewai>=0.95.0->crewai_tools) (0.8.4)\n",
            "Requirement already satisfied: jsonpointer>=1.9 in /usr/local/lib/python3.11/dist-packages (from jsonpatch<2.0,>=1.33->langchain-core<0.4.0,>=0.3.29->langchain<0.4.0,>=0.3.1->embedchain>=0.1.114->crewai_tools) (3.0.0)\n",
            "Requirement already satisfied: ptyprocess>=0.5 in /usr/local/lib/python3.11/dist-packages (from pexpect>4.3->ipython>=5.3.0->pyvis>=0.3.2->crewai>=0.95.0->crewai_tools) (0.7.0)\n",
            "Requirement already satisfied: wcwidth in /usr/local/lib/python3.11/dist-packages (from prompt-toolkit!=3.0.0,!=3.0.1,<3.1.0,>=2.0.0->ipython>=5.3.0->pyvis>=0.3.2->crewai>=0.95.0->crewai_tools) (0.2.13)\n",
            "Requirement already satisfied: pyasn1<0.7.0,>=0.4.6 in /usr/local/lib/python3.11/dist-packages (from pyasn1-modules>=0.2.1->google-auth<3.0.0dev,>=2.14.1->google-cloud-aiplatform<2.0.0,>=1.26.1->embedchain>=0.1.114->crewai_tools) (0.6.1)\n",
            "Collecting mypy-extensions>=0.3.0 (from typing-inspect<1,>=0.4.0->dataclasses-json<0.7,>=0.5.7->langchain-community<0.4.0,>=0.3.1->embedchain>=0.1.114->crewai_tools)\n",
            "  Downloading mypy_extensions-1.0.0-py3-none-any.whl.metadata (1.1 kB)\n",
            "Collecting hyperframe<7,>=6.0 (from h2<5,>=3->httpx[http2]>=0.20.0->qdrant-client<2.0.0,>=1.9.1->mem0ai<0.2.0,>=0.1.37->embedchain>=0.1.114->crewai_tools)\n",
            "  Downloading hyperframe-6.1.0-py3-none-any.whl.metadata (4.3 kB)\n",
            "Collecting hpack<5,>=4.0 (from h2<5,>=3->httpx[http2]>=0.20.0->qdrant-client<2.0.0,>=1.9.1->mem0ai<0.2.0,>=0.1.37->embedchain>=0.1.114->crewai_tools)\n",
            "  Downloading hpack-4.1.0-py3-none-any.whl.metadata (4.6 kB)\n",
            "Downloading crewai_tools-0.32.1-py3-none-any.whl (537 kB)\n",
            "\u001b[2K   \u001b[90m━━━━━━━━━━━━━━━━━━━━━━━━━━━━━━━━━━━━━━━━\u001b[0m \u001b[32m537.3/537.3 kB\u001b[0m \u001b[31m14.0 MB/s\u001b[0m eta \u001b[36m0:00:00\u001b[0m\n",
            "\u001b[?25hDownloading docker-7.1.0-py3-none-any.whl (147 kB)\n",
            "\u001b[2K   \u001b[90m━━━━━━━━━━━━━━━━━━━━━━━━━━━━━━━━━━━━━━━━\u001b[0m \u001b[32m147.8/147.8 kB\u001b[0m \u001b[31m10.5 MB/s\u001b[0m eta \u001b[36m0:00:00\u001b[0m\n",
            "\u001b[?25hDownloading embedchain-0.1.126-py3-none-any.whl (211 kB)\n",
            "\u001b[2K   \u001b[90m━━━━━━━━━━━━━━━━━━━━━━━━━━━━━━━━━━━━━━━━\u001b[0m \u001b[32m211.4/211.4 kB\u001b[0m \u001b[31m14.6 MB/s\u001b[0m eta \u001b[36m0:00:00\u001b[0m\n",
            "\u001b[?25hDownloading chromadb-0.5.23-py3-none-any.whl (628 kB)\n",
            "\u001b[2K   \u001b[90m━━━━━━━━━━━━━━━━━━━━━━━━━━━━━━━━━━━━━━━━\u001b[0m \u001b[32m628.3/628.3 kB\u001b[0m \u001b[31m32.5 MB/s\u001b[0m eta \u001b[36m0:00:00\u001b[0m\n",
            "\u001b[?25hDownloading lancedb-0.18.0-cp39-abi3-manylinux_2_28_x86_64.whl (32.2 MB)\n",
            "\u001b[2K   \u001b[90m━━━━━━━━━━━━━━━━━━━━━━━━━━━━━━━━━━━━━━━━\u001b[0m \u001b[32m32.2/32.2 MB\u001b[0m \u001b[31m47.8 MB/s\u001b[0m eta \u001b[36m0:00:00\u001b[0m\n",
            "\u001b[?25hDownloading pylance-0.22.0-cp39-abi3-manylinux_2_28_x86_64.whl (38.3 MB)\n",
            "\u001b[2K   \u001b[90m━━━━━━━━━━━━━━━━━━━━━━━━━━━━━━━━━━━━━━━━\u001b[0m \u001b[32m38.3/38.3 MB\u001b[0m \u001b[31m20.1 MB/s\u001b[0m eta \u001b[36m0:00:00\u001b[0m\n",
            "\u001b[?25hDownloading linkup_sdk-0.2.2-py3-none-any.whl (8.0 kB)\n",
            "Downloading patronus-0.0.17-py3-none-any.whl (31 kB)\n",
            "Downloading pyright-1.1.392.post0-py3-none-any.whl (5.6 MB)\n",
            "\u001b[2K   \u001b[90m━━━━━━━━━━━━━━━━━━━━━━━━━━━━━━━━━━━━━━━━\u001b[0m \u001b[32m5.6/5.6 MB\u001b[0m \u001b[31m92.8 MB/s\u001b[0m eta \u001b[36m0:00:00\u001b[0m\n",
            "\u001b[?25hDownloading pytube-15.0.0-py3-none-any.whl (57 kB)\n",
            "\u001b[2K   \u001b[90m━━━━━━━━━━━━━━━━━━━━━━━━━━━━━━━━━━━━━━━━\u001b[0m \u001b[32m57.6/57.6 kB\u001b[0m \u001b[31m3.8 MB/s\u001b[0m eta \u001b[36m0:00:00\u001b[0m\n",
            "\u001b[?25hDownloading scrapegraph_py-1.10.2-py3-none-any.whl (14 kB)\n",
            "Downloading selenium-4.28.1-py3-none-any.whl (9.5 MB)\n",
            "\u001b[2K   \u001b[90m━━━━━━━━━━━━━━━━━━━━━━━━━━━━━━━━━━━━━━━━\u001b[0m \u001b[32m9.5/9.5 MB\u001b[0m \u001b[31m91.4 MB/s\u001b[0m eta \u001b[36m0:00:00\u001b[0m\n",
            "\u001b[?25hDownloading serpapi-0.1.5-py2.py3-none-any.whl (10 kB)\n",
            "Downloading snowflake-1.0.2-py3-none-any.whl (5.6 kB)\n",
            "Downloading snowflake_core-1.0.2-py3-none-any.whl (1.6 MB)\n",
            "\u001b[2K   \u001b[90m━━━━━━━━━━━━━━━━━━━━━━━━━━━━━━━━━━━━━━━━\u001b[0m \u001b[32m1.6/1.6 MB\u001b[0m \u001b[31m56.5 MB/s\u001b[0m eta \u001b[36m0:00:00\u001b[0m\n",
            "\u001b[?25hDownloading weaviate_client-4.10.4-py3-none-any.whl (330 kB)\n",
            "\u001b[2K   \u001b[90m━━━━━━━━━━━━━━━━━━━━━━━━━━━━━━━━━━━━━━━━\u001b[0m \u001b[32m330.4/330.4 kB\u001b[0m \u001b[31m19.0 MB/s\u001b[0m eta \u001b[36m0:00:00\u001b[0m\n",
            "\u001b[?25hDownloading validators-0.34.0-py3-none-any.whl (43 kB)\n",
            "\u001b[2K   \u001b[90m━━━━━━━━━━━━━━━━━━━━━━━━━━━━━━━━━━━━━━━━\u001b[0m \u001b[32m43.5/43.5 kB\u001b[0m \u001b[31m2.7 MB/s\u001b[0m eta \u001b[36m0:00:00\u001b[0m\n",
            "\u001b[?25hDownloading alembic-1.14.1-py3-none-any.whl (233 kB)\n",
            "\u001b[2K   \u001b[90m━━━━━━━━━━━━━━━━━━━━━━━━━━━━━━━━━━━━━━━━\u001b[0m \u001b[32m233.6/233.6 kB\u001b[0m \u001b[31m15.7 MB/s\u001b[0m eta \u001b[36m0:00:00\u001b[0m\n",
            "\u001b[?25hDownloading Authlib-1.3.1-py2.py3-none-any.whl (223 kB)\n",
            "\u001b[2K   \u001b[90m━━━━━━━━━━━━━━━━━━━━━━━━━━━━━━━━━━━━━━━━\u001b[0m \u001b[32m223.8/223.8 kB\u001b[0m \u001b[31m14.1 MB/s\u001b[0m eta \u001b[36m0:00:00\u001b[0m\n",
            "\u001b[?25hDownloading cohere-5.13.11-py3-none-any.whl (252 kB)\n",
            "\u001b[2K   \u001b[90m━━━━━━━━━━━━━━━━━━━━━━━━━━━━━━━━━━━━━━━━\u001b[0m \u001b[32m252.5/252.5 kB\u001b[0m \u001b[31m13.5 MB/s\u001b[0m eta \u001b[36m0:00:00\u001b[0m\n",
            "\u001b[?25hDownloading httpx_sse-0.4.0-py3-none-any.whl (7.8 kB)\n",
            "Downloading gptcache-0.1.44-py3-none-any.whl (131 kB)\n",
            "\u001b[2K   \u001b[90m━━━━━━━━━━━━━━━━━━━━━━━━━━━━━━━━━━━━━━━━\u001b[0m \u001b[32m131.6/131.6 kB\u001b[0m \u001b[31m8.8 MB/s\u001b[0m eta \u001b[36m0:00:00\u001b[0m\n",
            "\u001b[?25hDownloading grpcio_health_checking-1.69.0-py3-none-any.whl (18 kB)\n",
            "Downloading grpcio_tools-1.69.0-cp311-cp311-manylinux_2_17_x86_64.manylinux2014_x86_64.whl (2.5 MB)\n",
            "\u001b[2K   \u001b[90m━━━━━━━━━━━━━━━━━━━━━━━━━━━━━━━━━━━━━━━━\u001b[0m \u001b[32m2.5/2.5 MB\u001b[0m \u001b[31m66.1 MB/s\u001b[0m eta \u001b[36m0:00:00\u001b[0m\n",
            "\u001b[?25hDownloading langchain_cohere-0.3.5-py3-none-any.whl (45 kB)\n",
            "\u001b[2K   \u001b[90m━━━━━━━━━━━━━━━━━━━━━━━━━━━━━━━━━━━━━━━━\u001b[0m \u001b[32m45.1/45.1 kB\u001b[0m \u001b[31m2.7 MB/s\u001b[0m eta \u001b[36m0:00:00\u001b[0m\n",
            "\u001b[?25hDownloading langchain_community-0.3.15-py3-none-any.whl (2.5 MB)\n",
            "\u001b[2K   \u001b[90m━━━━━━━━━━━━━━━━━━━━━━━━━━━━━━━━━━━━━━━━\u001b[0m \u001b[32m2.5/2.5 MB\u001b[0m \u001b[31m65.2 MB/s\u001b[0m eta \u001b[36m0:00:00\u001b[0m\n",
            "\u001b[?25hDownloading langchain-0.3.15-py3-none-any.whl (1.0 MB)\n",
            "\u001b[2K   \u001b[90m━━━━━━━━━━━━━━━━━━━━━━━━━━━━━━━━━━━━━━━━\u001b[0m \u001b[32m1.0/1.0 MB\u001b[0m \u001b[31m42.4 MB/s\u001b[0m eta \u001b[36m0:00:00\u001b[0m\n",
            "\u001b[?25hDownloading langchain_openai-0.2.14-py3-none-any.whl (50 kB)\n",
            "\u001b[2K   \u001b[90m━━━━━━━━━━━━━━━━━━━━━━━━━━━━━━━━━━━━━━━━\u001b[0m \u001b[32m50.9/50.9 kB\u001b[0m \u001b[31m3.5 MB/s\u001b[0m eta \u001b[36m0:00:00\u001b[0m\n",
            "\u001b[?25hDownloading langsmith-0.1.147-py3-none-any.whl (311 kB)\n",
            "\u001b[2K   \u001b[90m━━━━━━━━━━━━━━━━━━━━━━━━━━━━━━━━━━━━━━━━\u001b[0m \u001b[32m311.8/311.8 kB\u001b[0m \u001b[31m17.9 MB/s\u001b[0m eta \u001b[36m0:00:00\u001b[0m\n",
            "\u001b[?25hDownloading mem0ai-0.1.48-py3-none-any.whl (91 kB)\n",
            "\u001b[2K   \u001b[90m━━━━━━━━━━━━━━━━━━━━━━━━━━━━━━━━━━━━━━━━\u001b[0m \u001b[32m91.3/91.3 kB\u001b[0m \u001b[31m6.9 MB/s\u001b[0m eta \u001b[36m0:00:00\u001b[0m\n",
            "\u001b[?25hDownloading nodeenv-1.9.1-py2.py3-none-any.whl (22 kB)\n",
            "Downloading pydantic_settings-2.7.1-py3-none-any.whl (29 kB)\n",
            "Downloading pypdf-5.1.0-py3-none-any.whl (297 kB)\n",
            "\u001b[2K   \u001b[90m━━━━━━━━━━━━━━━━━━━━━━━━━━━━━━━━━━━━━━━━\u001b[0m \u001b[32m298.0/298.0 kB\u001b[0m \u001b[31m18.5 MB/s\u001b[0m eta \u001b[36m0:00:00\u001b[0m\n",
            "\u001b[?25hDownloading pysbd-0.3.4-py3-none-any.whl (71 kB)\n",
            "\u001b[2K   \u001b[90m━━━━━━━━━━━━━━━━━━━━━━━━━━━━━━━━━━━━━━━━\u001b[0m \u001b[32m71.1/71.1 kB\u001b[0m \u001b[31m4.9 MB/s\u001b[0m eta \u001b[36m0:00:00\u001b[0m\n",
            "\u001b[?25hDownloading schema-0.7.7-py2.py3-none-any.whl (18 kB)\n",
            "Downloading tiktoken-0.7.0-cp311-cp311-manylinux_2_17_x86_64.manylinux2014_x86_64.whl (1.1 MB)\n",
            "\u001b[2K   \u001b[90m━━━━━━━━━━━━━━━━━━━━━━━━━━━━━━━━━━━━━━━━\u001b[0m \u001b[32m1.1/1.1 MB\u001b[0m \u001b[31m43.9 MB/s\u001b[0m eta \u001b[36m0:00:00\u001b[0m\n",
            "\u001b[?25hDownloading tokenizers-0.20.3-cp311-cp311-manylinux_2_17_x86_64.manylinux2014_x86_64.whl (3.0 MB)\n",
            "\u001b[2K   \u001b[90m━━━━━━━━━━━━━━━━━━━━━━━━━━━━━━━━━━━━━━━━\u001b[0m \u001b[32m3.0/3.0 MB\u001b[0m \u001b[31m70.1 MB/s\u001b[0m eta \u001b[36m0:00:00\u001b[0m\n",
            "\u001b[?25hDownloading trio-0.28.0-py3-none-any.whl (486 kB)\n",
            "\u001b[2K   \u001b[90m━━━━━━━━━━━━━━━━━━━━━━━━━━━━━━━━━━━━━━━━\u001b[0m \u001b[32m486.3/486.3 kB\u001b[0m \u001b[31m23.0 MB/s\u001b[0m eta \u001b[36m0:00:00\u001b[0m\n",
            "\u001b[?25hDownloading trio_websocket-0.11.1-py3-none-any.whl (17 kB)\n",
            "Downloading deprecation-2.1.0-py2.py3-none-any.whl (11 kB)\n",
            "Downloading ijson-3.3.0-cp311-cp311-manylinux_2_17_x86_64.manylinux2014_x86_64.whl (119 kB)\n",
            "\u001b[2K   \u001b[90m━━━━━━━━━━━━━━━━━━━━━━━━━━━━━━━━━━━━━━━━\u001b[0m \u001b[32m119.2/119.2 kB\u001b[0m \u001b[31m7.8 MB/s\u001b[0m eta \u001b[36m0:00:00\u001b[0m\n",
            "\u001b[?25hDownloading snowflake_legacy-1.0.0-py3-none-any.whl (3.1 kB)\n",
            "Downloading dataclasses_json-0.6.7-py3-none-any.whl (28 kB)\n",
            "Downloading fastavro-1.10.0-cp311-cp311-manylinux_2_17_x86_64.manylinux2014_x86_64.whl (3.3 MB)\n",
            "\u001b[2K   \u001b[90m━━━━━━━━━━━━━━━━━━━━━━━━━━━━━━━━━━━━━━━━\u001b[0m \u001b[32m3.3/3.3 MB\u001b[0m \u001b[31m61.9 MB/s\u001b[0m eta \u001b[36m0:00:00\u001b[0m\n",
            "\u001b[?25hDownloading langchain_core-0.3.31-py3-none-any.whl (412 kB)\n",
            "\u001b[2K   \u001b[90m━━━━━━━━━━━━━━━━━━━━━━━━━━━━━━━━━━━━━━━━\u001b[0m \u001b[32m412.2/412.2 kB\u001b[0m \u001b[31m23.9 MB/s\u001b[0m eta \u001b[36m0:00:00\u001b[0m\n",
            "\u001b[?25hDownloading langchain_experimental-0.3.4-py3-none-any.whl (209 kB)\n",
            "\u001b[2K   \u001b[90m━━━━━━━━━━━━━━━━━━━━━━━━━━━━━━━━━━━━━━━━\u001b[0m \u001b[32m209.2/209.2 kB\u001b[0m \u001b[31m12.6 MB/s\u001b[0m eta \u001b[36m0:00:00\u001b[0m\n",
            "\u001b[?25hDownloading qdrant_client-1.13.2-py3-none-any.whl (306 kB)\n",
            "\u001b[2K   \u001b[90m━━━━━━━━━━━━━━━━━━━━━━━━━━━━━━━━━━━━━━━━\u001b[0m \u001b[32m306.6/306.6 kB\u001b[0m \u001b[31m16.9 MB/s\u001b[0m eta \u001b[36m0:00:00\u001b[0m\n",
            "\u001b[?25hDownloading types_requests-2.32.0.20241016-py3-none-any.whl (15 kB)\n",
            "Downloading wsproto-1.2.0-py3-none-any.whl (24 kB)\n",
            "Downloading Mako-1.3.8-py3-none-any.whl (78 kB)\n",
            "\u001b[2K   \u001b[90m━━━━━━━━━━━━━━━━━━━━━━━━━━━━━━━━━━━━━━━━\u001b[0m \u001b[32m78.6/78.6 kB\u001b[0m \u001b[31m5.4 MB/s\u001b[0m eta \u001b[36m0:00:00\u001b[0m\n",
            "\u001b[?25hDownloading outcome-1.3.0.post0-py2.py3-none-any.whl (10 kB)\n",
            "Downloading snowflake_connector_python-3.12.4-cp311-cp311-manylinux_2_17_x86_64.manylinux2014_x86_64.whl (2.5 MB)\n",
            "\u001b[2K   \u001b[90m━━━━━━━━━━━━━━━━━━━━━━━━━━━━━━━━━━━━━━━━\u001b[0m \u001b[32m2.5/2.5 MB\u001b[0m \u001b[31m54.9 MB/s\u001b[0m eta \u001b[36m0:00:00\u001b[0m\n",
            "\u001b[?25hDownloading sortedcontainers-2.4.0-py2.py3-none-any.whl (29 kB)\n",
            "Downloading asn1crypto-1.5.1-py2.py3-none-any.whl (105 kB)\n",
            "\u001b[2K   \u001b[90m━━━━━━━━━━━━━━━━━━━━━━━━━━━━━━━━━━━━━━━━\u001b[0m \u001b[32m105.0/105.0 kB\u001b[0m \u001b[31m6.9 MB/s\u001b[0m eta \u001b[36m0:00:00\u001b[0m\n",
            "\u001b[?25hDownloading marshmallow-3.26.0-py3-none-any.whl (50 kB)\n",
            "\u001b[2K   \u001b[90m━━━━━━━━━━━━━━━━━━━━━━━━━━━━━━━━━━━━━━━━\u001b[0m \u001b[32m50.8/50.8 kB\u001b[0m \u001b[31m3.6 MB/s\u001b[0m eta \u001b[36m0:00:00\u001b[0m\n",
            "\u001b[?25hDownloading portalocker-2.10.1-py3-none-any.whl (18 kB)\n",
            "Downloading typing_inspect-0.9.0-py3-none-any.whl (8.8 kB)\n",
            "Downloading tomlkit-0.13.2-py3-none-any.whl (37 kB)\n",
            "Downloading h2-4.1.0-py3-none-any.whl (57 kB)\n",
            "\u001b[2K   \u001b[90m━━━━━━━━━━━━━━━━━━━━━━━━━━━━━━━━━━━━━━━━\u001b[0m \u001b[32m57.5/57.5 kB\u001b[0m \u001b[31m3.5 MB/s\u001b[0m eta \u001b[36m0:00:00\u001b[0m\n",
            "\u001b[?25hDownloading mypy_extensions-1.0.0-py3-none-any.whl (4.7 kB)\n",
            "Downloading hpack-4.1.0-py3-none-any.whl (34 kB)\n",
            "Downloading hyperframe-6.1.0-py3-none-any.whl (13 kB)\n",
            "Building wheels for collected packages: docx2txt, spider-client\n",
            "  Building wheel for docx2txt (setup.py) ... \u001b[?25l\u001b[?25hdone\n",
            "  Created wheel for docx2txt: filename=docx2txt-0.8-py3-none-any.whl size=3960 sha256=4bbc9667224e51be88305982aef875dccc6c4b9728fa88125768c4330f6c9838\n",
            "  Stored in directory: /root/.cache/pip/wheels/0f/0e/7a/3094a4ceefe657bff7e12dd9592a9d5b6487ef4338ace0afa6\n",
            "  Building wheel for spider-client (setup.py) ... \u001b[?25l\u001b[?25hdone\n",
            "  Created wheel for spider-client: filename=spider_client-0.1.26-py3-none-any.whl size=13032 sha256=5a7e68a6cdda3867ce352588765a2b1e5d35aef1d5ffbd2c5bad648bdd4afab3\n",
            "  Stored in directory: /root/.cache/pip/wheels/72/af/3b/0a1028d06412a2c275abecfc222e1dbb58832144eb3389fb0e\n",
            "Successfully built docx2txt spider-client\n",
            "Installing collected packages: sortedcontainers, schema, ijson, docx2txt, asn1crypto, wsproto, validators, types-requests, tomlkit, snowflake-legacy, pytube, pysbd, pypdf, portalocker, outcome, nodeenv, mypy-extensions, marshmallow, Mako, hyperframe, httpx-sse, hpack, grpcio-tools, grpcio-health-checking, fastavro, deprecation, typing-inspect, trio, tiktoken, serpapi, pyright, pylance, h2, gptcache, docker, alembic, trio-websocket, tokenizers, spider-client, scrapegraph-py, pydantic-settings, linkup-sdk, langsmith, lancedb, dataclasses-json, authlib, weaviate-client, snowflake-connector-python, selenium, qdrant-client, patronus, langchain-core, cohere, snowflake-core, mem0ai, langchain-openai, snowflake, langchain, langchain-community, chromadb, langchain-experimental, langchain-cohere, embedchain, crewai_tools\n",
            "  Attempting uninstall: tiktoken\n",
            "    Found existing installation: tiktoken 0.8.0\n",
            "    Uninstalling tiktoken-0.8.0:\n",
            "      Successfully uninstalled tiktoken-0.8.0\n",
            "  Attempting uninstall: tokenizers\n",
            "    Found existing installation: tokenizers 0.21.0\n",
            "    Uninstalling tokenizers-0.21.0:\n",
            "      Successfully uninstalled tokenizers-0.21.0\n",
            "  Attempting uninstall: langsmith\n",
            "    Found existing installation: langsmith 0.2.10\n",
            "    Uninstalling langsmith-0.2.10:\n",
            "      Successfully uninstalled langsmith-0.2.10\n",
            "  Attempting uninstall: langchain-core\n",
            "    Found existing installation: langchain-core 0.3.29\n",
            "    Uninstalling langchain-core-0.3.29:\n",
            "      Successfully uninstalled langchain-core-0.3.29\n",
            "  Attempting uninstall: langchain\n",
            "    Found existing installation: langchain 0.3.14\n",
            "    Uninstalling langchain-0.3.14:\n",
            "      Successfully uninstalled langchain-0.3.14\n",
            "  Attempting uninstall: chromadb\n",
            "    Found existing installation: chromadb 0.6.3\n",
            "    Uninstalling chromadb-0.6.3:\n",
            "      Successfully uninstalled chromadb-0.6.3\n",
            "\u001b[31mERROR: pip's dependency resolver does not currently take into account all the packages that are installed. This behaviour is the source of the following dependency conflicts.\n",
            "transformers 4.47.1 requires tokenizers<0.22,>=0.21, but you have tokenizers 0.20.3 which is incompatible.\u001b[0m\u001b[31m\n",
            "\u001b[0mSuccessfully installed Mako-1.3.8 alembic-1.14.1 asn1crypto-1.5.1 authlib-1.3.1 chromadb-0.5.23 cohere-5.13.11 crewai_tools-0.32.1 dataclasses-json-0.6.7 deprecation-2.1.0 docker-7.1.0 docx2txt-0.8 embedchain-0.1.126 fastavro-1.10.0 gptcache-0.1.44 grpcio-health-checking-1.69.0 grpcio-tools-1.69.0 h2-4.1.0 hpack-4.1.0 httpx-sse-0.4.0 hyperframe-6.1.0 ijson-3.3.0 lancedb-0.18.0 langchain-0.3.15 langchain-cohere-0.3.5 langchain-community-0.3.15 langchain-core-0.3.31 langchain-experimental-0.3.4 langchain-openai-0.2.14 langsmith-0.1.147 linkup-sdk-0.2.2 marshmallow-3.26.0 mem0ai-0.1.48 mypy-extensions-1.0.0 nodeenv-1.9.1 outcome-1.3.0.post0 patronus-0.0.17 portalocker-2.10.1 pydantic-settings-2.7.1 pylance-0.22.0 pypdf-5.1.0 pyright-1.1.392.post0 pysbd-0.3.4 pytube-15.0.0 qdrant-client-1.13.2 schema-0.7.7 scrapegraph-py-1.10.2 selenium-4.28.1 serpapi-0.1.5 snowflake-1.0.2 snowflake-connector-python-3.12.4 snowflake-core-1.0.2 snowflake-legacy-1.0.0 sortedcontainers-2.4.0 spider-client-0.1.26 tiktoken-0.7.0 tokenizers-0.20.3 tomlkit-0.13.2 trio-0.28.0 trio-websocket-0.11.1 types-requests-2.32.0.20241016 typing-inspect-0.9.0 validators-0.34.0 weaviate-client-4.10.4 wsproto-1.2.0\n"
          ]
        }
      ],
      "source": [
        "!pip install crewai\n",
        "!pip install crewai_tools"
      ]
    },
    {
      "cell_type": "markdown",
      "source": [
        "Dermatology Expert and task 1\n",
        "\n"
      ],
      "metadata": {
        "id": "SnaQVM5oX4AT"
      }
    },
    {
      "cell_type": "code",
      "source": [
        "from crewai import Agent\n",
        "dermatology_expert = Agent(\n",
        "    role=(\n",
        "        \"You are a certified dermatologist with expertise in Western medicine (allopathy). \"\n",
        "        \"Your role is to assess user-provided skin concerns and provide accurate diagnoses and treatment recommendations. \"\n",
        "        \"You will suggest evidence-based allopathic solutions, including over-the-counter and prescription medications, \"\n",
        "        \"and offer general skin care advice tailored to the user's needs.\"\n",
        "    ),\n",
        "    goal=(\n",
        "        \"To create a comprehensive dermatological report that identifies the user's skin issues and provides \"\n",
        "        \"clear, actionable, and safe allopathic treatment options to address them.\"\n",
        "    ),\n",
        "    backstory=(\n",
        "        \"You are a board-certified dermatologist with years of clinical experience in diagnosing and treating a wide range of skin conditions. \"\n",
        "        \"Your expertise encompasses acne, hyperpigmentation, rosacea, and other common or complex facial skin problems.\"\n",
        "    ),\n",
        "    verbose=True,\n",
        "    memory=True,\n",
        "    allow_delegation=True\n",
        ")"
      ],
      "metadata": {
        "id": "33jmAJtXX7LX",
        "colab": {
          "base_uri": "https://localhost:8080/"
        },
        "outputId": "e6fa4628-1a8e-4d8e-ee2c-447c590ae51c"
      },
      "execution_count": null,
      "outputs": [
        {
          "output_type": "stream",
          "name": "stdout",
          "text": [
            "LLM value is None\n"
          ]
        }
      ]
    },
    {
      "cell_type": "code",
      "source": [
        "from crewai import Task\n",
        "task1 = Task(\n",
        "    description=(\n",
        "        \"Evaluate the user's input {user_input} regarding their skin concerns. \"\n",
        "        \"Provide an accurate diagnosis along with a detailed, evidence-based allopathic treatment plan. \"\n",
        "        \"Include over-the-counter and prescription medication options where applicable, to the user's specific needs.\"\n",
        "    ),\n",
        "    expected_output=(\n",
        "        \"A comprehensive dermatological report that includes:\\n\"\n",
        "        \"- An assessment of the user's skin concerns\\n\"\n",
        "        \"- Accurate diagnoses based on the provided input\\n\"\n",
        "        \"- Evidence-based allopathic treatment recommendations with recommended dosages and medication schedule\\n\"\n",
        "        \"- Tailored general skin care advice for ongoing maintenance\"\n",
        "    ),\n",
        "    agent=dermatology_expert,\n",
        "    async_execution=True,\n",
        "    output_file=\"Dermatology_Report.md\"\n",
        ")"
      ],
      "metadata": {
        "id": "8HjPL7YGbCMx"
      },
      "execution_count": null,
      "outputs": []
    },
    {
      "cell_type": "markdown",
      "source": [
        "Ayurvedic Skin care expert and task 2"
      ],
      "metadata": {
        "id": "YEH-qbzGg2PB"
      }
    },
    {
      "cell_type": "code",
      "source": [
        "ayurvedic_agent = Agent(\n",
        "    role=(\n",
        "        \"You are a certified Ayurvedic practitioner with extensive expertise in traditional medicine. \"\n",
        "        \"Your role is to assess user-provided skin concerns and offer holistic Ayurvedic remedies and treatment recommendations. \"\n",
        "        \"You will suggest natural, plant-based solutions, including herbal formulations, dietary adjustments, and lifestyle changes, \"\n",
        "        \"tailored to the user's specific skin needs.\"\n",
        "    ),\n",
        "    goal=(\n",
        "        \"1. To evaluate the user's skin concerns based on the provided information and traditional Ayurvedic principles.\"\n",
        "        \"\\n2. To create a comprehensive, holistic treatment plan using Ayurvedic remedies and practices.\"\n",
        "        \"\\n3. To recommend natural, evidence-based treatments such as herbal supplements, oils, and lifestyle modifications.\"\n",
        "        \"\\n4. To provide personalized advice for long-term skin health and overall wellness, in line with Ayurvedic teachings.\"\n",
        "    ),\n",
        "    backstory=(\n",
        "        \"You are a certified Ayurvedic practitioner with years of experience in treating a wide range of skin conditions using traditional herbal medicine, dietary changes, and holistic practices. \"\n",
        "        \"You specialize in balancing the body’s doshas and using natural ingredients to restore and maintain skin health.\"\n",
        "    ),\n",
        "    verbose=True,\n",
        "    memory=True,\n",
        "    allow_delegation=True\n",
        ")"
      ],
      "metadata": {
        "id": "5a1ZpoHSg6_Q",
        "colab": {
          "base_uri": "https://localhost:8080/"
        },
        "outputId": "9642e4a1-2a8e-4aa7-96b5-012c5f7cc42c"
      },
      "execution_count": null,
      "outputs": [
        {
          "output_type": "stream",
          "name": "stdout",
          "text": [
            "LLM value is None\n"
          ]
        }
      ]
    },
    {
      "cell_type": "code",
      "source": [
        "task2 = Task(\n",
        "    description=(\n",
        "        \"Evaluate the user's input {user_input} regarding their skin concerns. \"\n",
        "        \"Provide a comprehensive Ayurvedic treatment plan that includes natural remedies, herbal formulations, dietary suggestions, \"\n",
        "        \"and lifestyle recommendations tailored to the user's specific skin type and needs.\"\n",
        "    ),\n",
        "    expected_output=(\n",
        "        \"A holistic Ayurvedic report that includes:\\n\"\n",
        "        \"- An assessment of the user's skin concerns based on Ayurvedic principles\\n\"\n",
        "        \"- Personalized recommendations for herbal treatments, oils, and supplements\\n\"\n",
        "        \"- Dietary and lifestyle adjustments to balance the user's doshas and promote skin health\\n\"\n",
        "        \"- Long-term advice for maintaining skin wellness using Ayurvedic practices\"\n",
        "    ),\n",
        "    agent=ayurvedic_agent,\n",
        "    async_execution=True,\n",
        "    output_file=\"Ayurvedic_Skin_Care_Plan.md\"\n",
        ")"
      ],
      "metadata": {
        "id": "n6xbW2BWhcVn"
      },
      "execution_count": null,
      "outputs": []
    },
    {
      "cell_type": "markdown",
      "source": [
        "Scheduling Agent and task 3\n"
      ],
      "metadata": {
        "id": "aWgvIf6nnGGl"
      }
    },
    {
      "cell_type": "code",
      "source": [
        "scheduling_agent = Agent(\n",
        "    role=(\n",
        "        \"You are an expert in creating personalized schedules for patients based on their treatment plans. \"\n",
        "        \"Your task is to create a detailed weekly schedule for the user, incorporating both the allopathic treatments from the dermatology_expert and the Ayurvedic recommendations from the ayurvedic_agent. \"\n",
        "        \"The schedule should prioritize allopathic treatments but also integrate Ayurvedic treatments with appropriate weightage, ensuring a balanced approach to the user's skin care regimen. \"\n",
        "        \"Each treatment should be assigned a specific time slot, with clear instructions on when and how to take the medications or perform treatments.\"\n",
        "    ),\n",
        "    goal=(\n",
        "        \"1. To generate a well-structured weekly schedule based on the reports received from the dermatology_expert and the ayurvedic_agent.\"\n",
        "        \"\\n2. To prioritize allopathic treatments, ensuring timely and consistent administration, while also integrating Ayurvedic treatments to complement the allopathic regimen.\"\n",
        "        \"\\n3. To provide the user with clear time stamps for each treatment, ensuring ease of following the schedule.\"\n",
        "        \"\\n4. To offer a holistic approach by giving appropriate weightage to Ayurvedic treatments in conjunction with allopathic care.\"\n",
        "    ),\n",
        "    backstory=(\n",
        "        \"You are an expert in crafting personalized schedules for patients, combining conventional (allopathic) treatments and alternative therapies like Ayurveda. \"\n",
        "        \"Your expertise lies in ensuring that both types of treatments are harmoniously integrated, making it easier for patients to follow a comprehensive care plan.\"\n",
        "    ),\n",
        "    memory=True,\n",
        "    allow_delegation=True,\n",
        "    verbose=True\n",
        ")"
      ],
      "metadata": {
        "id": "yPw1veX2nFFg",
        "colab": {
          "base_uri": "https://localhost:8080/"
        },
        "outputId": "0441c247-f984-45d6-e30a-fc44744e5e8c"
      },
      "execution_count": null,
      "outputs": [
        {
          "output_type": "stream",
          "name": "stdout",
          "text": [
            "LLM value is None\n"
          ]
        }
      ]
    },
    {
      "cell_type": "code",
      "source": [
        "from crewai import Task\n",
        "\n",
        "task3 = Task(\n",
        "    description=(\n",
        "        \"Based on the reports received from the dermatology_expert and the ayurvedic_agent regarding the user's skin care treatments, \"\n",
        "        \"create a detailed weekly schedule. The schedule should prioritize allopathic treatments while also integrating Ayurvedic remedies. \"\n",
        "        \"Each treatment should be assigned a specific time slot with clear instructions, ensuring that both allopathic and Ayurvedic treatments are balanced and easy to follow.\"\n",
        "    ),\n",
        "    expected_output=(\n",
        "        \"A comprehensive weekly schedule that includes:\\n\"\n",
        "        \"- Time-stamped allopathic treatment slots with dosage instructions\\n\"\n",
        "        \"- Time-stamped Ayurvedic treatment slots with recommended remedies\\n\"\n",
        "        \"- A balanced approach, prioritizing allopathic treatments while integrating Ayurvedic care\"\n",
        "    ),\n",
        "    agent=scheduling_agent,\n",
        "    output_file=\"Weekly_Skin_Care_Schedule.md\",\n",
        "    context=[task1,task2]\n",
        ")"
      ],
      "metadata": {
        "id": "Gt0Gill0ow_G"
      },
      "execution_count": null,
      "outputs": []
    },
    {
      "cell_type": "markdown",
      "source": [
        "Project Manager Agent"
      ],
      "metadata": {
        "id": "8MtmK9GQpIzr"
      }
    },
    {
      "cell_type": "code",
      "source": [
        "project_manager = Agent(\n",
        "    role=\"Project Manager\",\n",
        "    goal=\"Efficiently manage the crew and ensure high-quality task completion\",\n",
        "    backstory=\"You're an experienced project manager, skilled in overseeing complex projects and guiding teams to success. Your role is to coordinate the efforts of the crew members, ensuring that each task is completed on time and to the highest standard.\",\n",
        "    allow_delegation=True,\n",
        ")"
      ],
      "metadata": {
        "id": "64aVlk6Vo3tr",
        "colab": {
          "base_uri": "https://localhost:8080/"
        },
        "outputId": "8e6a8f28-8fc5-4006-f6db-eba17501e10c"
      },
      "execution_count": null,
      "outputs": [
        {
          "output_type": "stream",
          "name": "stdout",
          "text": [
            "LLM value is None\n"
          ]
        }
      ]
    },
    {
      "cell_type": "markdown",
      "source": [
        "Crew, Process and Crew kickoff"
      ],
      "metadata": {
        "id": "maCCwCBBFpGk"
      }
    },
    {
      "cell_type": "code",
      "source": [
        "from crewai import Crew,Process\n",
        "crew=Crew(\n",
        "    agents=[dermatology_expert,ayurvedic_agent,scheduling_agent],\n",
        "    tasks=[task1,task2,task3],\n",
        "    process=Process.hierarchical,\n",
        "    manager_agent=project_manager,\n",
        ")"
      ],
      "metadata": {
        "id": "AHdV7KP5pu_F"
      },
      "execution_count": null,
      "outputs": []
    },
    {
      "cell_type": "code",
      "source": [
        "crew.kickoff({\n",
        "    \"user_input\": \"I have dark spots on my face that have been persistent for a few weeks. They appeared after I experienced acne outbreaks. I’m unsure if they’re post-inflammatory hyperpigmentation or something else. Can you help me understand the cause and recommend effective treatments, both allopathic and Ayurvedic, to reduce them?\"\n",
        "})\n"
      ],
      "metadata": {
        "colab": {
          "base_uri": "https://localhost:8080/"
        },
        "id": "qo0J-KKyqRV8",
        "outputId": "2ad13d93-d107-4103-e407-2d7c122188c5"
      },
      "execution_count": null,
      "outputs": [
        {
          "output_type": "execute_result",
          "data": {
            "text/plain": [
              "CrewOutput(raw='**Weekly Skin Care Schedule for Post-Inflammatory Hyperpigmentation**\\n\\n**Morning Routine:**\\n- **7:00 AM**: Cleanser\\n   - Use a gentle, non-comedogenic cleanser. \\n\\n- **7:15 AM**: Allopathic Treatment\\n   - **Hydroquinone 4% Cream**: Apply a thin layer to the affected areas. \\n   - **Niacinamide 5% Gel**: Apply a thin layer on top of the hydroquinone. \\n\\n- **7:30 AM**: Sunscreen\\n   - **Broad-Spectrum Sunscreen (SPF 30 or higher)**: Apply generously to the face and reapply every 2 hours when outdoors.\\n\\n**Midday Routine:**\\n- **12:30 PM**: Ayurvedic Treatment\\n   - **Turmeric and Yogurt Paste**: Mix turmeric powder with yogurt to form a paste. Apply to dark spots for 15-20 minutes, then rinse off with lukewarm water. (This can be done 3 times a week: Monday, Wednesday, Friday).\\n\\n**Evening Routine:**\\n- **6:30 PM**: Cleanser\\n   - Use the same gentle, non-comedogenic cleanser.\\n\\n- **6:45 PM**: Allopathic Treatment\\n   - **Tretinoin (0.025% Cream)**: Start with this dosage for the first week before potentially increasing to 0.05% after two weeks if tolerated.\\n\\n- **7:00 PM**: Allopathic Treatment\\n   - **Azelaic Acid 20% Cream**: Apply a thin layer to affected areas.\\n\\n- **7:15 PM**: Allopathic Treatment\\n   - **Niacinamide 5% Gel**: Apply again for added hydration effects.\\n\\n- **7:30 PM**: Ayurvedic Treatment\\n   - **Aloe Vera Gel**: Apply fresh aloe vera gel on the face to soothe and heal.\\n\\n**Weekly Treatment:**\\n- **Saturday or Sunday** (Choose a weekend day for time flexibility): \\n   - **Neem Face Mask**: Boil neem leaves, mash them with a little water, and apply the paste to the face. Leave on for 20-30 minutes. (Once a week)\\n\\n**Before Bed Routine:**\\n- **9:00 PM**: Optional Ayurvedic Supplement\\n   - **Vitamin E Supplement**: Take as directed to assist skin repair and health.\\n\\n**General Recommendations:**\\n- **Hydration**: Drink plenty of water and herbal teas throughout the day.\\n- **Diet**: Focus on cooling foods (cucumbers, melons) and anti-inflammatory foods (turmeric, ginger).\\n- **Lifestyle**: Engage in yoga/meditation daily, ensure 7-8 hours of sleep.\\n- **Follow-Up with Dermatologist**: Regular assessments every 4-6 weeks to monitor progress and adjust treatments as necessary.\\n\\nThis comprehensive schedule ensures a balanced approach to managing post-inflammatory hyperpigmentation with a combination of allopathic and Ayurvedic treatments. Consistency, patience, and adherence to this plan are key to achieving the best results.', pydantic=None, json_dict=None, tasks_output=[TaskOutput(description=\"Evaluate the user's input I have dark spots on my face that have been persistent for a few weeks. They appeared after I experienced acne outbreaks. I’m unsure if they’re post-inflammatory hyperpigmentation or something else. Can you help me understand the cause and recommend effective treatments, both allopathic and Ayurvedic, to reduce them? regarding their skin concerns. Provide an accurate diagnosis along with a detailed, evidence-based allopathic treatment plan. Include over-the-counter and prescription medication options where applicable, to the user's specific needs.\", name=None, expected_output=\"A comprehensive dermatological report that includes:\\n- An assessment of the user's skin concerns\\n- Accurate diagnoses based on the provided input\\n- Evidence-based allopathic treatment recommendations with recommended dosages and medication schedule\\n- Tailored general skin care advice for ongoing maintenance\", summary=\"Evaluate the user's input I have dark spots on my...\", raw=\"The user describes experiencing persistent dark spots on their face that developed after acne outbreaks, raising concerns regarding whether these spots are a result of post-inflammatory hyperpigmentation or another skin issue.\\n\\n**Assessment of Skin Concerns:**\\nThe user has likely developed post-inflammatory hyperpigmentation (PIH) due to inflammation from acne. PIH appears as darkened areas on the skin following acne lesions and typically resolves over time, but treatment can expedite healing.\\n\\n**Accurate Diagnoses:**\\n1. Post-inflammatory hyperpigmentation (PIH).\\n2. Consider differential diagnoses such as melasma or early signs of other dermatological conditions, but the history of recent acne makes PIH most likely.\\n\\n**Evidence-Based Allopathic Treatment Recommendations:**\\n1. **Topical Treatments:**\\n   - **Hydroquinone 4% Cream**: Apply twice daily for up to 3 months. Monitor for side effects such as irritation.\\n   - **Tretinoin Cream**: Start with a low concentration (0.025%) applied once daily before bed to promote skin cell turnover and reduce pigmentation over time.\\n   - **Azelaic Acid**: Apply twice daily; it helps with both acne and pigmentation. Use 15% formulation for sensitive skin.\\n\\n2. **Chemical Peels**: Consider a series of glycolic acid peels (20-50%) performed by a licensed skincare professional every 4-6 weeks to enhance skin exfoliation and reduce pigmentation.\\n\\n3. **Sunscreen**: Use a broad-spectrum sunscreen with SPF 30 or higher every day, even on cloudy days, to prevent worsening pigmentation.\\n\\n4. **Oral Options (as needed)**: \\n   - **Tranexamic Acid**: Some studies suggest an oral dose of 250-500 mg twice daily for PIH, but consult your physician first.\\n   - **Vitamins (C and E)**: Antioxidant vitamins can help repair skin and reduce pigmentation if taken as part of a balanced diet.\\n\\n5. **Follow-Up**: Re-evaluate in 3 months to assess the effectiveness of treatments.\\n\\n**General Skin Care Advice for Ongoing Maintenance:**\\n- Maintain a gentle skincare routine avoiding harsh scrubs and irritants.\\n- Use non-comedogenic moisturizers to prevent further breakouts.\\n- Consider incorporating Niacinamide in your routine to help with both oil control and pigmentation.\\n\\nAdditionally, if Ayurvedic treatments are of interest, some options include:\\n- **Turmeric paste**: Known for its anti-inflammatory properties, apply topically to affected areas.\\n- **Aloe Vera**: Can soothe the skin and may help reduce pigmentation over time with regular use. \\n\\nIt's essential to consult with a healthcare professional before starting new treatment as individual skin types and concerns may vary.\\n```\", pydantic=None, json_dict=None, agent='Project Manager', output_format=<OutputFormat.RAW: 'raw'>), TaskOutput(description=\"Evaluate the user's input I have dark spots on my face that have been persistent for a few weeks. They appeared after I experienced acne outbreaks. I’m unsure if they’re post-inflammatory hyperpigmentation or something else. Can you help me understand the cause and recommend effective treatments, both allopathic and Ayurvedic, to reduce them? regarding their skin concerns. Provide a comprehensive Ayurvedic treatment plan that includes natural remedies, herbal formulations, dietary suggestions, and lifestyle recommendations tailored to the user's specific skin type and needs.\", name=None, expected_output=\"A holistic Ayurvedic report that includes:\\n- An assessment of the user's skin concerns based on Ayurvedic principles\\n- Personalized recommendations for herbal treatments, oils, and supplements\\n- Dietary and lifestyle adjustments to balance the user's doshas and promote skin health\\n- Long-term advice for maintaining skin wellness using Ayurvedic practices\", summary=\"Evaluate the user's input I have dark spots on my...\", raw=\"**Holistic Ayurvedic Report for Dark Spots on the Face** \\n\\n**Assessment of Skin Concerns:**\\nThe user is experiencing dark spots on their face that have developed post-acne. This condition is commonly referred to as post-inflammatory hyperpigmentation (PIH), where the skin darkens due to inflammation following acne. According to Ayurvedic principles, these dark spots can result from an imbalance of 'Pitta' dosha, which governs complexion and skin health. \\n\\n**Personalized Recommendations:**\\n\\n1. **Herbal Treatments:** \\n   - **Turmeric (Curcuma longa):** Known for its anti-inflammatory properties, turmeric can help reduce dark spots. Mix turmeric powder with yogurt to create a paste, apply it to the dark spots for 15-20 minutes, and rinse off with lukewarm water.\\n   - **Aloe Vera (Aloe barbadensis):** Apply fresh aloe vera gel to the affected areas to promote healing and soothe inflammation.\\n   - **Neem (Azadirachta indica):** Neem has antibacterial properties and can be used as a face mask. Boil neem leaves, mash them with a little water, and apply the paste to the face once a week.\\n\\n2. **Oils and Supplements:**\\n   - **Sandalwood Oil (Santalum album):** Applying sandalwood oil mixed with a carrier oil (like coconut oil) can brighten the skin.\\n   - **Vitamin E Supplements:** These can help repair skin and prevent further pigmentation.\\n\\n3. **Dietary Adjustments:** \\n   - Consume cooling foods to balance Pitta, such as cucumbers, melons, and leafy greens.\\n   - Incorporate anti-inflammatory foods into the diet like turmeric, ginger, berries, and green tea.\\n   - Drink plenty of water and herbal teas to keep the body hydrated.\\n\\n4. **Lifestyle Recommendations:** \\n   - Practice daily yoga and meditation to alleviate stress, which can exacerbate skin issues.\\n   - Ensure adequate sleep to allow the body to heal and regenerate skin cells.\\n   - Avoid sun exposure; use a natural sunscreen to protect the skin and reduce further darkening of spots.\\n\\n5. **Long-term Advice for Skin Wellness:** \\n   - Regularly exfoliate the skin gently to remove dead skin cells and promote new cell growth (preferably with natural exfoliants like oatmeal).\\n   - Consider professional Ayurvedic treatments or facials for deeper cleansing and restoration.\\n   - Maintain personal hygiene and use non-comedogenic products to prevent further breakouts.\\n\\nBy following this comprehensive Ayurvedic treatment plan, the user can potentially reduce dark spots and promote healthier skin over time.\\n```\", pydantic=None, json_dict=None, agent='Project Manager', output_format=<OutputFormat.RAW: 'raw'>), TaskOutput(description=\"Based on the reports received from the dermatology_expert and the ayurvedic_agent regarding the user's skin care treatments, create a detailed weekly schedule. The schedule should prioritize allopathic treatments while also integrating Ayurvedic remedies. Each treatment should be assigned a specific time slot with clear instructions, ensuring that both allopathic and Ayurvedic treatments are balanced and easy to follow.\", name=None, expected_output='A comprehensive weekly schedule that includes:\\n- Time-stamped allopathic treatment slots with dosage instructions\\n- Time-stamped Ayurvedic treatment slots with recommended remedies\\n- A balanced approach, prioritizing allopathic treatments while integrating Ayurvedic care', summary='Based on the reports received from the dermatology_expert and the...', raw='**Weekly Skin Care Schedule for Post-Inflammatory Hyperpigmentation**\\n\\n**Morning Routine:**\\n- **7:00 AM**: Cleanser\\n   - Use a gentle, non-comedogenic cleanser. \\n\\n- **7:15 AM**: Allopathic Treatment\\n   - **Hydroquinone 4% Cream**: Apply a thin layer to the affected areas. \\n   - **Niacinamide 5% Gel**: Apply a thin layer on top of the hydroquinone. \\n\\n- **7:30 AM**: Sunscreen\\n   - **Broad-Spectrum Sunscreen (SPF 30 or higher)**: Apply generously to the face and reapply every 2 hours when outdoors.\\n\\n**Midday Routine:**\\n- **12:30 PM**: Ayurvedic Treatment\\n   - **Turmeric and Yogurt Paste**: Mix turmeric powder with yogurt to form a paste. Apply to dark spots for 15-20 minutes, then rinse off with lukewarm water. (This can be done 3 times a week: Monday, Wednesday, Friday).\\n\\n**Evening Routine:**\\n- **6:30 PM**: Cleanser\\n   - Use the same gentle, non-comedogenic cleanser.\\n\\n- **6:45 PM**: Allopathic Treatment\\n   - **Tretinoin (0.025% Cream)**: Start with this dosage for the first week before potentially increasing to 0.05% after two weeks if tolerated.\\n\\n- **7:00 PM**: Allopathic Treatment\\n   - **Azelaic Acid 20% Cream**: Apply a thin layer to affected areas.\\n\\n- **7:15 PM**: Allopathic Treatment\\n   - **Niacinamide 5% Gel**: Apply again for added hydration effects.\\n\\n- **7:30 PM**: Ayurvedic Treatment\\n   - **Aloe Vera Gel**: Apply fresh aloe vera gel on the face to soothe and heal.\\n\\n**Weekly Treatment:**\\n- **Saturday or Sunday** (Choose a weekend day for time flexibility): \\n   - **Neem Face Mask**: Boil neem leaves, mash them with a little water, and apply the paste to the face. Leave on for 20-30 minutes. (Once a week)\\n\\n**Before Bed Routine:**\\n- **9:00 PM**: Optional Ayurvedic Supplement\\n   - **Vitamin E Supplement**: Take as directed to assist skin repair and health.\\n\\n**General Recommendations:**\\n- **Hydration**: Drink plenty of water and herbal teas throughout the day.\\n- **Diet**: Focus on cooling foods (cucumbers, melons) and anti-inflammatory foods (turmeric, ginger).\\n- **Lifestyle**: Engage in yoga/meditation daily, ensure 7-8 hours of sleep.\\n- **Follow-Up with Dermatologist**: Regular assessments every 4-6 weeks to monitor progress and adjust treatments as necessary.\\n\\nThis comprehensive schedule ensures a balanced approach to managing post-inflammatory hyperpigmentation with a combination of allopathic and Ayurvedic treatments. Consistency, patience, and adherence to this plan are key to achieving the best results.', pydantic=None, json_dict=None, agent='Project Manager', output_format=<OutputFormat.RAW: 'raw'>)], token_usage=UsageMetrics(total_tokens=316363, prompt_tokens=304134, cached_prompt_tokens=206592, completion_tokens=12229, successful_requests=52))"
            ]
          },
          "metadata": {},
          "execution_count": 12
        }
      ]
    },
    {
      "cell_type": "markdown",
      "source": [
        "Langchain Chatbot (Skin Care GPT) to solve user queries"
      ],
      "metadata": {
        "id": "CAMlOyUgIVmk"
      }
    },
    {
      "cell_type": "code",
      "source": [
        "!pip install langchain_community\n",
        "!pip install langchain_huggingface\n",
        "!pip install langchain_groq"
      ],
      "metadata": {
        "id": "-Zj4CibnqpSv"
      },
      "execution_count": null,
      "outputs": []
    },
    {
      "cell_type": "code",
      "source": [
        "from langchain_community.document_loaders import TextLoader\n",
        "doc1=TextLoader(\"/content/Ayurvedic_Skin_Care_Plan.md\")\n",
        "doc1=doc1.load()"
      ],
      "metadata": {
        "id": "r6nR9QA3JDVm"
      },
      "execution_count": null,
      "outputs": []
    },
    {
      "cell_type": "code",
      "source": [
        "doc2=TextLoader(\"/content/Dermatology_Report.md\")\n",
        "doc2=doc2.load()"
      ],
      "metadata": {
        "id": "t37AvbiSK554"
      },
      "execution_count": null,
      "outputs": []
    },
    {
      "cell_type": "code",
      "source": [
        "doc3=TextLoader(\"/content/Weekly_Skin_Care_Schedule.md\")\n",
        "doc3=doc3.load()"
      ],
      "metadata": {
        "id": "LpWcx420LFvN"
      },
      "execution_count": null,
      "outputs": []
    },
    {
      "cell_type": "code",
      "source": [
        "docs=doc1+doc2+doc3"
      ],
      "metadata": {
        "id": "rDujcKa4LL66"
      },
      "execution_count": null,
      "outputs": []
    },
    {
      "cell_type": "code",
      "source": [
        "from langchain_openai import OpenAIEmbeddings\n",
        "embeddings=OpenAIEmbeddings(api_key=\"\")"
      ],
      "metadata": {
        "id": "6LkA67OPLPuv"
      },
      "execution_count": null,
      "outputs": []
    },
    {
      "cell_type": "code",
      "source": [
        "!pip install faiss--cpu"
      ],
      "metadata": {
        "id": "BqkdUmkTMuiE"
      },
      "execution_count": null,
      "outputs": []
    },
    {
      "cell_type": "code",
      "source": [
        "from langchain_community.vectorstores import FAISS\n",
        "db=FAISS.from_documents(docs,embeddings)"
      ],
      "metadata": {
        "id": "0bXI27FwNdOb"
      },
      "execution_count": null,
      "outputs": []
    },
    {
      "cell_type": "code",
      "source": [
        "retriever=db.as_retriever()"
      ],
      "metadata": {
        "id": "hrazH25qNkZl"
      },
      "execution_count": null,
      "outputs": []
    },
    {
      "cell_type": "code",
      "source": [
        "from langchain_groq import ChatGroq\n",
        "llm=ChatGroq(api_key=\"\",model=\"mixtral-8x7b-32768\")"
      ],
      "metadata": {
        "id": "4Svfw3BBPF_O"
      },
      "execution_count": null,
      "outputs": []
    },
    {
      "cell_type": "code",
      "source": [
        "llm.invoke(\"hello\")"
      ],
      "metadata": {
        "colab": {
          "base_uri": "https://localhost:8080/"
        },
        "id": "uCy2cTXOVnVY",
        "outputId": "e1daac1d-cdfa-4931-cdba-8bc77f911e31"
      },
      "execution_count": null,
      "outputs": [
        {
          "output_type": "execute_result",
          "data": {
            "text/plain": [
              "AIMessage(content=\"Hello! It's nice to meet you. Is there something you would like to talk about or ask me? I'm here to help with any questions you might have about writing, grammar, or language in general. Just let me know how I can assist you.\", additional_kwargs={}, response_metadata={'token_usage': {'completion_tokens': 57, 'prompt_tokens': 10, 'total_tokens': 67, 'completion_time': 0.08746629, 'prompt_time': 0.002145862, 'queue_time': 0.028417148000000003, 'total_time': 0.089612152}, 'model_name': 'mixtral-8x7b-32768', 'system_fingerprint': 'fp_c5f20b5bb1', 'finish_reason': 'stop', 'logprobs': None}, id='run-0926a58f-bb35-4162-80ef-3d05e19b8c10-0', usage_metadata={'input_tokens': 10, 'output_tokens': 57, 'total_tokens': 67})"
            ]
          },
          "metadata": {},
          "execution_count": 124
        }
      ]
    },
    {
      "cell_type": "markdown",
      "source": [
        "Trying different types of chains"
      ],
      "metadata": {
        "id": "LzvaMl31N3GO"
      }
    },
    {
      "cell_type": "markdown",
      "source": [
        "document chain"
      ],
      "metadata": {
        "id": "GRQq7cjfPIN1"
      }
    },
    {
      "cell_type": "code",
      "source": [
        "from langchain.prompts import ChatPromptTemplate\n",
        "prompt1=ChatPromptTemplate.from_messages([\n",
        "    (\"system\",\"Answer user questions based on the provided context {context}\"),\n",
        "    (\"user\",\"{input}\")\n",
        "])"
      ],
      "metadata": {
        "id": "2PXzI2IYa_eY"
      },
      "execution_count": null,
      "outputs": []
    },
    {
      "cell_type": "code",
      "source": [
        "from langchain.chains.combine_documents import create_stuff_documents_chain\n",
        "chain1=create_stuff_documents_chain(llm,prompt1)"
      ],
      "metadata": {
        "id": "E7193DNcNyAt"
      },
      "execution_count": null,
      "outputs": []
    },
    {
      "cell_type": "code",
      "source": [
        "chain1.invoke({\"input\":\"what are the otc treatments\",\n",
        "               \"context\":docs})"
      ],
      "metadata": {
        "colab": {
          "base_uri": "https://localhost:8080/",
          "height": 244
        },
        "id": "m4OlDBfObhCJ",
        "outputId": "a42e991e-4145-4619-ab82-a2580eb516ed"
      },
      "execution_count": null,
      "outputs": [
        {
          "output_type": "execute_result",
          "data": {
            "text/plain": [
              "\"Over-the-counter (OTC) treatments for post-inflammatory hyperpigmentation (PIH) primarily consist of topical products that can help reduce pigmentation and improve skin texture. Some of the key OTC ingredients include:\\n\\n1. **Hydroquinone:** Available in 2% concentration in OTC products, hydroquinone works by inhibiting tyrosinase, an enzyme involved in melanin production. It helps to lighten dark spots and even out skin tone. It's recommended to use it twice daily, following the guidelines mentioned in the schedule provided earlier.\\n\\n2. **Azelaic Acid:** Available in 10-20% concentration in OTC products, azelaic acid has anti-inflammatory and antibacterial properties that help reduce redness, swelling, and pigmentation. It can be applied twice daily, both in the morning and evening.\\n\\n3. **Vitamin C:** Available in various concentrations between 10-20% in serums, creams, and gels, Vitamin C (ascorbic acid) promotes collagen production, helps brighten skin, and inhibits tyrosinase activity. It's best to use it once daily in the morning, as mentioned in the schedule provided earlier.\\n\\n4. **Retinol:** A derivative of Vitamin A, retinol encourages skin cell turnover and can help fade dark spots over time. It's recommended to use it as directed, once daily at bedtime, but it's essential to start with a lower concentration and gradually build tolerance to avoid irritation.\\n\\n5. **Niacinamide:** This form of Vitamin B3 helps reduce inflammation, improves skin barrier function, and can help reduce pigmentation. It can be added to the skincare routine once or twice daily.\\n\\n6. **Kojic Acid:** Another tyrosinase inhibitor, Kojic Acid, helps reduce pigmentation, but it can cause skin irritation in some individuals. It's recommended to use it as directed, typically twice daily.\\n\\n7. **Chemical Exfoliants:** Products containing glycolic acid, lactic acid, or salicylic acid can help exfoliate the skin and reduce pigmentation. They can be incorporated into the skincare routine 1-2 times a week, depending on the specific product and user tolerance.\\n\\nWhen using OTC treatments, it's essential to follow the guidelines provided for each product and be mindful of potential interactions or side effects. Additionally, using sunscreen with SPF 30 or higher daily is crucial to prevent further darkening of the spots and maintain overall skin health.\\n\\nIt's always a good idea to consult a dermatologist or skincare professional before starting any new skincare routine, especially for those with sensitive skin or other underlying skin conditions.\""
            ],
            "application/vnd.google.colaboratory.intrinsic+json": {
              "type": "string"
            }
          },
          "metadata": {},
          "execution_count": 127
        }
      ]
    },
    {
      "cell_type": "markdown",
      "source": [
        "Retriever chain"
      ],
      "metadata": {
        "id": "FMj7VnSAm8O9"
      }
    },
    {
      "cell_type": "code",
      "source": [
        "from langchain.chains import create_retrieval_chain"
      ],
      "metadata": {
        "id": "05s2phQ8m4vm"
      },
      "execution_count": null,
      "outputs": []
    },
    {
      "cell_type": "code",
      "source": [
        "chain2=create_retrieval_chain(retriever,chain1)"
      ],
      "metadata": {
        "id": "dF3h60LMnBmg"
      },
      "execution_count": null,
      "outputs": []
    },
    {
      "cell_type": "code",
      "source": [
        "chain2.invoke({\"input\":\"what are the otc treatments\"})"
      ],
      "metadata": {
        "colab": {
          "base_uri": "https://localhost:8080/"
        },
        "id": "mb-9v7tJnGxk",
        "outputId": "f331f0a0-ba54-4406-a04b-4191ffc25523"
      },
      "execution_count": null,
      "outputs": [
        {
          "output_type": "execute_result",
          "data": {
            "text/plain": [
              "{'input': 'what are the otc treatments',\n",
              " 'context': [Document(id='c926b5ea-62b6-4de6-8f5c-67eb4c7294b8', metadata={'source': '/content/Weekly_Skin_Care_Schedule.md'}, page_content='**Comprehensive Weekly Skincare Schedule for User**\\n\\n**Patient Profile**: The user presents with dark spots on their face, likely due to post-inflammatory hyperpigmentation following previous acne outbreaks. The following weekly schedule integrates both allopathic and Ayurvedic treatments, with emphasis on the allopathic approach and clear instructions for the user.\\n\\n---\\n\\n**Monday to Sunday Schedule:**\\n\\n**Morning Routine (7:00 AM - 8:00 AM)**\\n\\n- **7:00 AM**: Cleanser\\n  - Use a gentle cleanser to wash the face. \\n\\n- **7:15 AM**: Vitamin C Serum\\n  - **Use**: Apply a small amount to the entire face.\\n  - **Frequency**: Once daily in the morning.\\n\\n- **7:30 AM**: Hydroquinone (2-4% cream)\\n  - **Use**: Apply to affected areas (dark spots) gently.\\n  - **Frequency**: Twice daily (morning and evening).\\n\\n- **7:45 AM**: Moisturizer and Sunscreen\\n  - Apply a suitable moisturizer and use sunscreen with SPF 30 or higher.\\n\\n---\\n\\n**Afternoon Routine (12:00 PM - 1:00 PM)**\\n\\n- **12:00 PM**: Azelaic Acid (15-20% cream or gel)\\n  - **Use**: Apply to affected areas.\\n  - **Frequency**: Twice daily (morning and evening).\\n\\n- **12:30 PM**: Ayurvedic Treatment (Turmeric Paste)\\n  - **Preparation**: Mix turmeric powder with honey and yogurt to create a paste.\\n  - **Use**: Apply to the dark spots and leave for 20 minutes before rinsing off.\\n  - **Frequency**: 3 times a week (Monday, Wednesday, Friday).\\n\\n---\\n\\n**Evening Routine (8:00 PM - 9:30 PM)**\\n\\n- **8:00 PM**: Cleanser\\n  - Use a gentle cleanser to wash the face.\\n\\n- **8:15 PM**: Tretinoin (0.025% - 0.1% cream)\\n  - **Use**: Apply a pea-sized amount to the affected areas.\\n  - **Frequency**: Once daily at bedtime.\\n\\n- **8:30 PM**: Hydroquinone (2-4% cream)\\n  - **Use**: Apply to affected areas (dark spots) gently.\\n  - **Frequency**: Twice daily (morning and evening).\\n\\n- **8:45 PM**: Ayurvedic Treatment (Neem)\\n  - **Preparation**: Drink 1 cup of neem tea or apply a neem paste to the skin.\\n  - **Frequency**: 3 times a week (Tuesday, Thursday, Saturday).\\n\\n- **9:00 PM**: Sandalwood Oil\\n  - **Preparation**: Mix sandalwood oil with a carrier oil (like coconut) and apply to the dark spots.\\n  - **Frequency**: Every night for best results.\\n\\n- **9:15 PM**: Triphala Powder\\n  - **Preparation**: Take Triphala powder as recommended on the packaging (usually 1 tsp in water).\\n  - **Frequency**: Once daily, preferably at night.\\n\\n---\\n\\n**Weekly Overview:**\\n\\n- **Hydroquinone**: Apply twice daily.\\n- **Tretinoin**: Apply nightly.\\n- **Azelaic Acid**: Apply twice daily.\\n- **Vitamin C**: Apply once daily in the morning.\\n- **Turmeric Paste**: 3 times a week in the afternoon.\\n- **Neem**: 3 times a week in the evening.\\n- **Sandalwood Oil**: Every night.\\n- **Triphala Powder**: Once daily before bed.\\n\\n---\\n\\n**Continuing Care Recommendations:**\\n\\n- Regularly follow up with a dermatologist to monitor progress and side effects.\\n- Maintain hydration with plenty of water and avoid picking at the skin.\\n- Adapt lifestyle choices to reduce stress and ensure ample sleep for optimal skin health.\\n\\nBy following this comprehensive weekly schedule, the user can effectively manage their skin condition while incorporating both allopathic and Ayurvedic treatments for optimal results.'),\n",
              "  Document(id='5150df85-de02-4f9e-8a89-8f64851f6267', metadata={'source': '/content/Ayurvedic_Skin_Care_Plan.md'}, page_content='To address the user’s concerns regarding dark spots on their face that developed after experiencing acne outbreaks, I will create a comprehensive Ayurvedic treatment plan. This plan is designed to promote skin health and address the specific skin condition through a holistic approach.\\n\\n1. **Assessment of Skin Concerns:**\\n   Based on Ayurvedic principles, the dark spots may be a result of improper Pitta balance in the body, which can lead to skin issues such as post-inflammatory hyperpigmentation after acne. \\n\\n2. **Personalized Recommendations:**\\n   - **Herbal Treatments:** \\n     - **Turmeric Paste:** Make a paste using turmeric powder, honey, and yogurt. Apply it to the dark spots to reduce pigmentation and rejuvenate skin.\\n     - **Neem:** Using neem leaves, either make a paste or drink neem tea to alleviate inflammation and detoxify the skin.\\n   - **Oils and Supplements:**\\n     - **Sandalwood Oil:** Mix with a carrier oil and apply to the affected areas to lighten dark spots and soothe the skin.\\n     - **Triphala Powder:** Take as a supplement daily for detoxification and to improve skin clarity.\\n   \\n3. **Dietary Adjustments:**\\n   - Emphasize foods that pacify Pitta dosha:\\n     - Include cooling foods like cucumbers, melons, and coconut.\\n     - Avoid spicy and oily foods.\\n     - Increase consumption of green leafy vegetables, legumes, and whole grains.\\n     - Stay hydrated by drinking plenty of water and herbal teas such as peppermint or chamomile.\\n\\n4. **Lifestyle Recommendations:**\\n   - Maintain a regular skincare routine, using gentle cleansers and moisturizers suitable for your skin type.\\n   - Practice yoga and meditation to maintain inner balance and reduce stress, which can exacerbate skin problems.\\n   - Ensure adequate sleep and rest for overall skin health.\\n   - Protect the skin from direct sun exposure by wearing protective clothing or sunscreen to avoid further pigmentation.\\n\\n5. **Long-Term Skin Wellness:**\\n   - Engage in regular detoxification practices, such as fasting or using cleansing herbs (like triphala).\\n   - Consider Ayurvedic treatments such as Panchakarma for deeper detoxification if chronic skin issues persist.\\n   - Continuously adapt diet and lifestyle choices to maintain dosha balance and skin health.\\n\\nBy following this Ayurvedic treatment plan, the user can expect gradual improvement in their skin condition. Establishing these holistic practices will not only address the immediate concern of dark spots but also promote long-term skin wellness and health.\\n```'),\n",
              "  Document(id='379df0aa-8db0-4d82-8509-1dbd481c3183', metadata={'source': '/content/Dermatology_Report.md'}, page_content='**Comprehensive Dermatological Report**\\n\\n**Patient Assessment:**\\nThe user presents with dark spots on their face that have developed after experiencing acne outbreaks and have persisted for several weeks. The user is uncertain if these marks are post-inflammatory hyperpigmentation (PIH) or another dermatological condition.\\n\\n**Diagnosis:**\\nBased on the provided information and typical presentations, the dark spots are likely a result of post-inflammatory hyperpigmentation, which can occur after inflammation from acne lesions has resolved. It’s characterized by flat, brown, or black spots on the skin, which may emerge particularly in individuals with darker skin tones.\\n\\n**Evidence-Based Allopathic Treatment Recommendations:**\\n\\n1. **Topical Treatments:**\\n   - **Hydroquinone (2-4% cream):**\\n     - **Use:** Apply to the affected areas twice daily.\\n     - **Duration:** Use for up to 3 months, then require a break as per dermatological guidance due to potential side effects (exogenous ochronosis with prolonged use).\\n   \\n   - **Tretinoin (0.025% - 0.1% cream):**\\n     - **Use:** Apply a pea-sized amount to the affected areas once daily at bedtime.\\n     - **Duration:** Indefinite, but monitor progress every few months; can be combined with hydroquinone for enhanced efficacy.\\n    \\n   - **Azelaic Acid (15-20% cream or gel):**\\n     - **Use:** Apply twice daily to the affected areas.\\n     - **Duration:** Can be used long-term as it is less irritating and helps improve skin texture as well.\\n   \\n   - **Vitamin C Serum (10-20%):**\\n     - **Use:** Apply once daily, ideally in the morning, to help brighten skin.\\n     - **Duration:** Ongoing, can enhance finish and overall skin appearance.\\n\\n2. **Oral Medications:**\\n   - For severe cases, consider consulting for potential systemic treatments or evaluations for other dermatological issues.\\n\\n3. **Procedural Options:**\\n   - **Chemical Peels:** Consider light peels with glycolic acid or salicylic acid to help exfoliate and reduce pigmentation.\\n   - **Laser Treatments:** Options like IPL (Intense Pulsed Light) or fractional laser treatments may be effective for persistent pigmentation but should be determined in consultation with a dermatologist.\\n\\n**Dosages and Schedules:**\\n- Hydroquinone: Twice daily.\\n- Tretinoin: Once daily at bedtime.\\n- Azelaic Acid: Twice daily.\\n- Vitamin C: Once daily in the morning.\\n\\n**Skincare Advice for Ongoing Maintenance:**\\n- **Use sunscreen daily** with SPF 30 or higher regardless of weather to prevent exacerbation of hyperpigmentation.\\n- **Incorporate a gentle cleanser** that doesn’t irritate the skin. Avoid harsh scrubs.\\n- **Moisturize daily** to maintain skin hydration.\\n- **Avoid picking at acne** or dark spots to reduce the likelihood of further post-inflammatory changes.\\n- Schedule follow-up assessments with a dermatologist to monitor treatment efficacy and make adjustments as necessary.\\n\\nThis comprehensive approach should aid in the effective management of the user’s skin concerns while promoting long-term skin health.\\n```')],\n",
              " 'answer': \"Over-the-counter (OTC) treatments for post-inflammatory hyperpigmentation (PIH) based on the provided dermatological report include:\\n\\n1. **Topical Treatments:**\\n   - **Hydroquinone (2% cream):** This is a skin-lightening agent that can help reduce the appearance of dark spots. It is available OTC, but higher concentrations (up to 4%) may require a prescription.\\n   \\n   - **Azelaic Acid (15% cream or gel):** Azelaic acid is an antibacterial and anti-inflammatory agent that can help improve skin texture and reduce pigmentation. It is available OTC in some countries, but higher concentrations may require a prescription.\\n   \\n   - **Vitamin C Serum (10-20%):** Vitamin C is an antioxidant that can help brighten the skin and reduce pigmentation. Various OTC products with different concentrations are available.\\n\\n2. **Sunscreen:**\\n   - **Sunscreen with SPF 30 or higher:** Using a broad-spectrum sunscreen daily is crucial to prevent further darkening of the dark spots and to protect the skin from UV damage. Many sunscreen products are available OTC.\\n\\n3. **Gentle Cleanser:**\\n   - A gentle, non-irritating cleanser is essential for daily use to maintain skin health and prevent further inflammation. Various gentle cleansers are available OTC.\\n\\n4. **Moisturizer:**\\n   - Moisturizing daily is important to maintain skin hydration and support the skin's natural barrier function. Many moisturizers are available OTC.\\n\\nWhen selecting OTC treatments, it is crucial to consider your skin type, potential allergies, and any existing skin conditions. If you are unsure about the best products for your skin, consult a dermatologist or healthcare professional for personalized recommendations.\"}"
            ]
          },
          "metadata": {},
          "execution_count": 130
        }
      ]
    },
    {
      "cell_type": "markdown",
      "source": [
        "Doc q and a chain- gives the best results as of now"
      ],
      "metadata": {
        "id": "-UD_DY_5nU0s"
      }
    },
    {
      "cell_type": "code",
      "source": [
        "from langchain.chains import RetrievalQA"
      ],
      "metadata": {
        "id": "5xzuKxnNnOK9"
      },
      "execution_count": null,
      "outputs": []
    },
    {
      "cell_type": "code",
      "source": [
        "from langchain import hub\n",
        "prompt2=hub.pull('rlm/rag-prompt')"
      ],
      "metadata": {
        "id": "0K_Z2hK7o81D"
      },
      "execution_count": null,
      "outputs": []
    },
    {
      "cell_type": "code",
      "source": [
        "chain3=RetrievalQA.from_llm(llm=llm,retriever=retriever,prompt=prompt2)"
      ],
      "metadata": {
        "id": "3b7izlmanaVO"
      },
      "execution_count": null,
      "outputs": []
    },
    {
      "cell_type": "code",
      "source": [
        "chain3.invoke({\"query\":\"what are the otc treatments\"})"
      ],
      "metadata": {
        "colab": {
          "base_uri": "https://localhost:8080/"
        },
        "id": "UzvnUL5LpFx1",
        "outputId": "db6e4e32-cc83-4a87-99f3-6de2d995534d"
      },
      "execution_count": null,
      "outputs": [
        {
          "output_type": "execute_result",
          "data": {
            "text/plain": [
              "{'query': 'what are the otc treatments',\n",
              " 'result': 'The OTC treatments for post-inflammatory hyperpigmentation (PIH) from acne outbreaks include Hydroquinone (2-4% cream) applied twice daily, Azelaic Acid (15-20% cream or gel) applied twice daily, Vitamin C Serum (10-20%) applied once daily in the morning, and sunscreen with SPF 30 or higher used daily. These treatments help to reduce pigmentation and promote skin health.'}"
            ]
          },
          "metadata": {},
          "execution_count": 134
        }
      ]
    },
    {
      "cell_type": "markdown",
      "source": [
        "Agents and Tools"
      ],
      "metadata": {
        "id": "x0lI_FSKruRq"
      }
    },
    {
      "cell_type": "code",
      "source": [
        "#we have the llm\n",
        "#we have the prompt\n",
        "#we have the tool"
      ],
      "metadata": {
        "id": "IfKjl2_Lrwqr"
      },
      "execution_count": null,
      "outputs": []
    },
    {
      "cell_type": "code",
      "source": [
        "!pip install duckduckgo-search"
      ],
      "metadata": {
        "id": "HZGVxM7CyIP9"
      },
      "execution_count": null,
      "outputs": []
    },
    {
      "cell_type": "code",
      "source": [
        "from langchain.tools import DuckDuckGoSearchRun"
      ],
      "metadata": {
        "id": "-JZvOchbyNGt"
      },
      "execution_count": null,
      "outputs": []
    },
    {
      "cell_type": "code",
      "source": [
        "search_tool=DuckDuckGoSearchRun()"
      ],
      "metadata": {
        "id": "hbUQXUlxySEa"
      },
      "execution_count": null,
      "outputs": []
    },
    {
      "cell_type": "code",
      "source": [
        "search_tool.invoke(\"Temperature in Pune on 22/01/2025\")"
      ],
      "metadata": {
        "colab": {
          "base_uri": "https://localhost:8080/",
          "height": 244
        },
        "id": "k6aOTXQQyXLL",
        "outputId": "ae959c21-77a9-4ed6-9032-c1ad48a9e3aa"
      },
      "execution_count": null,
      "outputs": [
        {
          "output_type": "execute_result",
          "data": {
            "text/plain": [
              "\"Pune Weather Forecast and AQI Today: The temperature in Pune recorded 26.2 °C on January 22, 2025, as per the India Meteorological Department (IMD). The forecast from IMD indicates a minimum of ... The temperature in Pune today, on January 22, 2025, is 26.2 °C. The day's forecast indicates a minimum and maximum temperature of 18.78 °C and 32.03 °C, respectively. The relative humidity is ... Looking ahead to tomorrow, Thursday, January 23, 2025, Pune is projected by the India Meteorological Department (IMD) to have a minimum temperature of 18.49 °C and a maximum of 32.07 °C. The weather in Pune in January is hot. The average temperatures are between 18 ° C and 31 ° C. Usually the days in January are hot while the nights are a bit cooler. There shouldn't be any rainy days in in Pune during January. Current Weather for Popular Cities . San Francisco, CA 53 ° F Fair; Manhattan, NY 17 ° F Partly Cloudy; Schiller Park, IL (60176) warning 0 ° F Clear; Boston, MA 17 ° F Partly Cloudy; Houston ...\""
            ],
            "application/vnd.google.colaboratory.intrinsic+json": {
              "type": "string"
            }
          },
          "metadata": {},
          "execution_count": 139
        }
      ]
    },
    {
      "cell_type": "code",
      "source": [
        "from langchain.tools.retriever import create_retriever_tool"
      ],
      "metadata": {
        "id": "qcnrF-64yuAP"
      },
      "execution_count": null,
      "outputs": []
    },
    {
      "cell_type": "code",
      "source": [
        " report_tool=create_retriever_tool(retriever,\"user_reports\",\"has the user diagnosis and treatment report\")"
      ],
      "metadata": {
        "id": "xnCd5sulyrz3"
      },
      "execution_count": null,
      "outputs": []
    },
    {
      "cell_type": "code",
      "source": [
        "from langchain.prompts import ChatPromptTemplate, MessagesPlaceholder\n",
        "prompt3=ChatPromptTemplate.from_messages([\n",
        "    (\"system\",\"answer user questions using the search_tool and the report_tool\"),\n",
        "    (\"user\",\"{input}\"),\n",
        "    MessagesPlaceholder(variable_name=\"agent_scratchpad\")\n",
        "])"
      ],
      "metadata": {
        "id": "w-dseFPSzzoU"
      },
      "execution_count": null,
      "outputs": []
    },
    {
      "cell_type": "markdown",
      "source": [
        "Tools agent"
      ],
      "metadata": {
        "id": "1KHJqqKs0Q6X"
      }
    },
    {
      "cell_type": "code",
      "source": [
        "from langchain.agents import create_openai_tools_agent\n",
        "agent1=create_openai_tools_agent(llm=llm,prompt=prompt3,tools=[search_tool,report_tool])"
      ],
      "metadata": {
        "id": "1ZHPfA740NI9"
      },
      "execution_count": null,
      "outputs": []
    },
    {
      "cell_type": "code",
      "source": [
        "from langchain.agents import AgentExecutor\n",
        "agent_exec=AgentExecutor(agent=agent1, tools=[search_tool,report_tool], llm=llm, verbose=True)"
      ],
      "metadata": {
        "id": "H3gQWgih0eUc"
      },
      "execution_count": null,
      "outputs": []
    },
    {
      "cell_type": "code",
      "source": [
        "agent_exec.invoke({\"input\":\"what are the otc treatments\"})"
      ],
      "metadata": {
        "colab": {
          "base_uri": "https://localhost:8080/"
        },
        "id": "Xq0OfDBu0upg",
        "outputId": "09135728-0f0b-4f53-c428-a5c6498241b2"
      },
      "execution_count": null,
      "outputs": [
        {
          "output_type": "execute_result",
          "data": {
            "text/plain": [
              "{'input': 'what are the otc treatments',\n",
              " 'output': \"Based on the information provided, it seems that the user is looking for over-the-counter (OTC) treatments for dark spots on their face caused by post-inflammatory hyperpigmentation following acne outbreaks. Here is a summary of the OTC treatments mentioned in the dermatological report:\\n\\n1. **Hydroquinone (2-4% cream):** Apply to the affected areas twice daily. Use for up to 3 months, then take a break as per dermatological guidance due to potential side effects.\\n2. **Azelaic Acid (15-20% cream or gel):** Apply twice daily to the affected areas. It can be used long-term as it helps improve skin texture.\\n3. **Vitamin C Serum (10-20%):** Apply once daily, ideally in the morning, to help brighten skin. It can enhance the overall skin appearance.\\n4. **Sunscreen with SPF 30 or higher:** Use daily, regardless of weather, to prevent exacerbation of hyperpigmentation.\\n5. **Gentle cleanser:** Incorporate a gentle cleanser that doesn’t irritate the skin. Avoid harsh scrubs.\\n\\nThese OTC treatments can help manage the user's skin concerns while promoting long-term skin health. Make sure to follow the instructions and precautions mentioned for each treatment.\"}"
            ]
          },
          "metadata": {},
          "execution_count": 151
        }
      ]
    },
    {
      "cell_type": "markdown",
      "source": [
        "React agent"
      ],
      "metadata": {
        "id": "cX_xM7yN4Djz"
      }
    },
    {
      "cell_type": "code",
      "source": [
        "prompt4=hub.pull(\"hwchase17/react\")"
      ],
      "metadata": {
        "id": "YVCqm_uz4ylv"
      },
      "execution_count": null,
      "outputs": []
    },
    {
      "cell_type": "code",
      "source": [
        "from langchain.agents import create_react_agent\n",
        "agent2=create_react_agent(llm=llm,tools=[search_tool, report_tool],prompt=prompt4 )"
      ],
      "metadata": {
        "id": "dUZTXK1j06j9"
      },
      "execution_count": null,
      "outputs": []
    },
    {
      "cell_type": "code",
      "source": [
        "from langchain.agents import AgentExecutor\n",
        "agent_exec1=AgentExecutor(agent=agent2, tools=[search_tool,report_tool], llm=llm, verbose=True)"
      ],
      "metadata": {
        "id": "XsUz0eVf4OPB"
      },
      "execution_count": null,
      "outputs": []
    },
    {
      "cell_type": "code",
      "source": [
        "agent_exec1.invoke({\"input\":\"what are the otc treatments\"})"
      ],
      "metadata": {
        "colab": {
          "base_uri": "https://localhost:8080/"
        },
        "id": "D1XBcmux5SEg",
        "outputId": "5e908fe9-0777-45c9-b207-0258c20ab87d"
      },
      "execution_count": null,
      "outputs": [
        {
          "output_type": "execute_result",
          "data": {
            "text/plain": [
              "{'input': 'what are the otc treatments',\n",
              " 'output': \"Common OTC treatments include analgesics like acetaminophen and ibuprofen, cold and cough medicines, antacids, and some supplements like elderberry and garlic. However, the effectiveness of certain treatments for specific symptoms may not be fully supported by research. It's always a good idea to consult with a healthcare professional for personalized advice.\"}"
            ]
          },
          "metadata": {},
          "execution_count": 156
        }
      ]
    },
    {
      "cell_type": "markdown",
      "source": [
        "from langchain_community.tools import HumanInputRun\n",
        "\n",
        "tool = HumanInputRun(input_func=get_input)"
      ],
      "metadata": {
        "id": "Y1j58mdo6SqQ"
      }
    }
  ]
}